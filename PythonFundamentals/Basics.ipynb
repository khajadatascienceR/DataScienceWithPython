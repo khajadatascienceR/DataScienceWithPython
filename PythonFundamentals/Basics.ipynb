{
 "cells": [
  {
   "cell_type": "markdown",
   "id": "41041cea",
   "metadata": {},
   "source": [
    "## This is python basics\n"
   ]
  },
  {
   "cell_type": "code",
   "execution_count": 5,
   "id": "c6c6f008",
   "metadata": {},
   "outputs": [
    {
     "name": "stdout",
     "output_type": "stream",
     "text": [
      "Hello world python\n",
      "5\n",
      "True\n"
     ]
    }
   ],
   "source": [
    "print(\"Hello world python\")\n",
    "print(2 + 3)\n",
    "a = 5\n",
    "print(a == 5)"
   ]
  },
  {
   "cell_type": "markdown",
   "id": "21d19694",
   "metadata": {},
   "source": [
    "Variables & data types\n",
    "-----------------------"
   ]
  },
  {
   "cell_type": "code",
   "execution_count": 14,
   "id": "b009f403",
   "metadata": {},
   "outputs": [
    {
     "name": "stdout",
     "output_type": "stream",
     "text": [
      "10\n",
      "<class 'int'>\n",
      "2186213354064\n",
      "10\n",
      "<class 'int'>\n",
      "2186213354064\n",
      "11\n",
      "<class 'int'>\n",
      "2186213354096\n",
      "10\n"
     ]
    }
   ],
   "source": [
    "a = 10\n",
    "print(a)\n",
    "print(type(a))\n",
    "print(id(a))\n",
    "b = a\n",
    "print(b)\n",
    "print(type(b))\n",
    "print(id(b))\n",
    "a = a + 1\n",
    "# in python basic datatypes are mutable\n",
    "print(a)\n",
    "print(type(a))\n",
    "print(id(a))\n",
    "print(b)"
   ]
  },
  {
   "cell_type": "code",
   "execution_count": 15,
   "id": "34814c85",
   "metadata": {},
   "outputs": [
    {
     "name": "stdout",
     "output_type": "stream",
     "text": [
      "2186290601456\n",
      "2186290601456\n",
      "2186213354064\n",
      "2186213354064\n"
     ]
    }
   ],
   "source": [
    "a = \"hello\"\n",
    "b = \"hello\"\n",
    "print(id(a))\n",
    "print(id(b))\n",
    "\n",
    "c = 10\n",
    "d = 10\n",
    "print(id(c))\n",
    "print(id(d))"
   ]
  },
  {
   "cell_type": "code",
   "execution_count": 27,
   "id": "7f28d2b3",
   "metadata": {},
   "outputs": [
    {
     "name": "stdout",
     "output_type": "stream",
     "text": [
      "2186335492592\n",
      "2186335492976\n",
      "2186219352752\n",
      "2186219352752\n",
      "2186336623984\n",
      "2186336623728\n",
      "2\n",
      "140725812877416\n",
      "140725812877416\n",
      "140725812877448\n",
      "140725812877448\n"
     ]
    }
   ],
   "source": [
    "a = \"hello how are you doing? are you doing good\"\n",
    "b = \"hello how are you doing? are you doing good\"\n",
    "print(id(a))\n",
    "print(id(b))\n",
    "\n",
    "\n",
    "c = True\n",
    "d = True\n",
    "e = False\n",
    "f = False\n",
    "print(id(c))\n",
    "print(id(d))\n",
    "print(id(e))\n",
    "print(id(f))"
   ]
  },
  {
   "cell_type": "markdown",
   "id": "8b13aa86",
   "metadata": {},
   "source": [
    "Program Execution"
   ]
  },
  {
   "cell_type": "code",
   "execution_count": 1,
   "id": "2a9fa65d",
   "metadata": {},
   "outputs": [
    {
     "name": "stdout",
     "output_type": "stream",
     "text": [
      "Statement 1\n",
      "Statement 2\n"
     ]
    }
   ],
   "source": [
    "print(\"Statement 1\")\n",
    "print(\"Statement 2\")"
   ]
  },
  {
   "cell_type": "code",
   "execution_count": 2,
   "id": "8d4130d9",
   "metadata": {},
   "outputs": [
    {
     "name": "stdout",
     "output_type": "stream",
     "text": [
      "1\n",
      "2\n",
      "3\n",
      "4\n",
      "5\n"
     ]
    }
   ],
   "source": [
    "# print from 1 to 5\n",
    "print(1)\n",
    "print(2)\n",
    "print(3)\n",
    "print(4)\n",
    "print(5)"
   ]
  },
  {
   "cell_type": "markdown",
   "id": "3c891555",
   "metadata": {},
   "source": [
    "Looping Constructs\n",
    "------------------"
   ]
  },
  {
   "cell_type": "code",
   "execution_count": 4,
   "id": "a39d7211",
   "metadata": {},
   "outputs": [
    {
     "name": "stdout",
     "output_type": "stream",
     "text": [
      "1\n",
      "2\n",
      "3\n",
      "4\n",
      "5\n"
     ]
    }
   ],
   "source": [
    "index = 1\n",
    "while index <= 5:\n",
    "    print(index)\n",
    "    index = index + 1"
   ]
  },
  {
   "cell_type": "code",
   "execution_count": 7,
   "id": "22c6aceb",
   "metadata": {},
   "outputs": [
    {
     "name": "stdout",
     "output_type": "stream",
     "text": [
      "10\n",
      "12\n",
      "14\n",
      "16\n",
      "18\n",
      "20\n",
      "end of program\n"
     ]
    }
   ],
   "source": [
    "# print all the even numbers from 10 to 20\n",
    "index = 10\n",
    "while index <=20: # while block\n",
    "    print(index)    \n",
    "    index = index + 2\n",
    "print(\"end of program\")"
   ]
  },
  {
   "cell_type": "code",
   "execution_count": 13,
   "id": "dee62770",
   "metadata": {},
   "outputs": [
    {
     "name": "stdout",
     "output_type": "stream",
     "text": [
      "even\n"
     ]
    }
   ],
   "source": [
    "# conditional statements\n",
    "index = 30\n",
    "if index%2 == 0:\n",
    "    print(\"even\")\n",
    "else:\n",
    "    print(\"odd\")"
   ]
  },
  {
   "cell_type": "code",
   "execution_count": 22,
   "id": "c0b598d4",
   "metadata": {},
   "outputs": [
    {
     "name": "stdout",
     "output_type": "stream",
     "text": [
      "divisible by 2\n",
      "divisible by 3\n",
      "divisible by 4\n",
      "divisible by 5\n",
      "divisible by 6\n",
      "divisible by 9\n"
     ]
    }
   ],
   "source": [
    "# find whether the given number is divisible by all the numbers from 2 to 9 \n",
    "input = 180\n",
    "index = 2\n",
    "while index <= 9:\n",
    "    if input % index == 0:\n",
    "        print(f\"divisible by {index}\")\n",
    "    index = index + 1\n",
    "\n",
    "# if input % 2 == 0:\n",
    "#     print(\"divisible by 2\")\n",
    "# if input % 3 == 0:\n",
    "#     print(\"divisible by 3\")\n",
    "# if input % 4 == 0:\n",
    "#     print(\"divisible by 4\")\n",
    "\n"
   ]
  }
 ],
 "metadata": {
  "kernelspec": {
   "display_name": "Python 3 (ipykernel)",
   "language": "python",
   "name": "python3"
  },
  "language_info": {
   "codemirror_mode": {
    "name": "ipython",
    "version": 3
   },
   "file_extension": ".py",
   "mimetype": "text/x-python",
   "name": "python",
   "nbconvert_exporter": "python",
   "pygments_lexer": "ipython3",
   "version": "3.9.7"
  }
 },
 "nbformat": 4,
 "nbformat_minor": 5
}
