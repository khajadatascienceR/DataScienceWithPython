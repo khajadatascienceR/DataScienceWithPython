{
 "cells": [
  {
   "cell_type": "markdown",
   "metadata": {},
   "source": [
    "Iterators in Python \n",
    "---------------------"
   ]
  },
  {
   "cell_type": "code",
   "execution_count": 4,
   "metadata": {},
   "outputs": [
    {
     "name": "stdout",
     "output_type": "stream",
     "text": [
      "1\n",
      "3\n",
      "5\n"
     ]
    }
   ],
   "source": [
    "# range\n",
    "for item in range(1,6,2):\n",
    "    print(item)"
   ]
  },
  {
   "cell_type": "code",
   "execution_count": 13,
   "metadata": {},
   "outputs": [
    {
     "name": "stdout",
     "output_type": "stream",
     "text": [
      "1\n",
      "2\n",
      "3\n",
      "4\n",
      "5\n",
      "6\n"
     ]
    }
   ],
   "source": [
    "# list\n",
    "numbers_list = [ 1,2,3,4,5]\n",
    "numbers_list.append(6)\n",
    "for item in numbers_list:\n",
    "    print(item)"
   ]
  },
  {
   "cell_type": "code",
   "execution_count": 12,
   "metadata": {},
   "outputs": [
    {
     "name": "stdout",
     "output_type": "stream",
     "text": [
      "1\n",
      "2\n",
      "3\n",
      "4\n",
      "5\n"
     ]
    }
   ],
   "source": [
    "# tuples\n",
    "number_tuple = (1,2,3,4,5)\n",
    "for item in number_tuple:\n",
    "    print(item)"
   ]
  },
  {
   "cell_type": "code",
   "execution_count": 11,
   "metadata": {},
   "outputs": [
    {
     "name": "stdout",
     "output_type": "stream",
     "text": [
      "direct iteration\n",
      "\n",
      "python\n",
      "testing\n",
      "\n",
      "iterating keys\n",
      "\n",
      "python\n",
      "testing\n",
      "\n",
      "iterating values\n",
      "\n",
      "khaja\n",
      "['Ramana', 'Lakshmi']\n",
      "\n",
      "iterate name and value\n",
      "\n",
      "python ==> khaja\n",
      "testing ==> ['Ramana', 'Lakshmi']\n"
     ]
    }
   ],
   "source": [
    "# dictionary\n",
    "qt = { \n",
    "    'python': 'khaja',\n",
    "    'testing': ['Ramana', 'Lakshmi']\n",
    "}\n",
    "\n",
    "print(\"direct iteration\")\n",
    "print()\n",
    "for item in qt:\n",
    "    print(item)\n",
    "print()\n",
    "print(\"iterating keys\")\n",
    "print()\n",
    "for item in qt.keys():\n",
    "    print(item)\n",
    "print()\n",
    "print(\"iterating values\")\n",
    "print()\n",
    "for item in qt.values():\n",
    "    print(item)\n",
    "print()\n",
    "print(\"iterate name and value\")\n",
    "print()\n",
    "for name, value in qt.items():\n",
    "    print(f\"{name} ==> {value}\")\n"
   ]
  },
  {
   "cell_type": "code",
   "execution_count": 18,
   "metadata": {},
   "outputs": [
    {
     "name": "stdout",
     "output_type": "stream",
     "text": [
      "2\n",
      "4\n",
      "6\n",
      "1\n",
      "3\n",
      "5\n",
      "{1, 2, 3, 4, 5, 6}\n",
      "set()\n",
      "{'blue', 'yellow', 'white', 'green'}\n",
      "{'white', 'blue'}\n"
     ]
    }
   ],
   "source": [
    "# Sets\n",
    "even_numbers = { 2,4,6}\n",
    "for item in even_numbers:\n",
    "    print(item)\n",
    "odd_numbers = {1,3,5}\n",
    "for item in odd_numbers:\n",
    "    print(item)\n",
    "\n",
    "print(even_numbers.union(odd_numbers))\n",
    "print(even_numbers.intersection(odd_numbers))\n",
    "\n",
    "selected_colors = { 'white', 'green', 'blue'}\n",
    "\n",
    "generally_liked_colors = {'white', 'blue', 'yellow'}\n",
    "\n",
    "print(selected_colors.union(generally_liked_colors))\n",
    "\n",
    "print(selected_colors.intersection(generally_liked_colors))"
   ]
  },
  {
   "cell_type": "code",
   "execution_count": 20,
   "metadata": {},
   "outputs": [
    {
     "name": "stdout",
     "output_type": "stream",
     "text": [
      "item => iphone 13\n",
      "individual price = 135000\n",
      "quanity => 5\n",
      "item => one plus 9T\n",
      "individual price = 79000\n",
      "quanity => 5\n"
     ]
    }
   ],
   "source": [
    "shopping_cart = {}\n",
    "shopping_cart['iphone 13'] = {\n",
    "    'price': 135000,\n",
    "    'quantity': 5,\n",
    "    'coupon code': 'BEST5'\n",
    "}\n",
    "shopping_cart['one plus 9T'] = {\n",
    "    'price': '79000',\n",
    "    'quantity': 5,\n",
    "    'coupon code': 'BEST10'\n",
    "}\n",
    "for name, value in shopping_cart.items():\n",
    "    print(f\"item => {name}\")\n",
    "    print(f\"individual price = {value['price']}\")\n",
    "    print(f\"quanity => {value['quantity']}\")\n",
    "    print(f\"coupon code => {value['coupon code']}\")"
   ]
  }
 ],
 "metadata": {
  "interpreter": {
   "hash": "0323123eee0aa214712d62f1ce5cae745cb7aa6e91cd5750003a553b6dd184b0"
  },
  "kernelspec": {
   "display_name": "Python 3.9.7 ('base')",
   "language": "python",
   "name": "python3"
  },
  "language_info": {
   "codemirror_mode": {
    "name": "ipython",
    "version": 3
   },
   "file_extension": ".py",
   "mimetype": "text/x-python",
   "name": "python",
   "nbconvert_exporter": "python",
   "pygments_lexer": "ipython3",
   "version": "3.9.7"
  },
  "orig_nbformat": 4
 },
 "nbformat": 4,
 "nbformat_minor": 2
}
