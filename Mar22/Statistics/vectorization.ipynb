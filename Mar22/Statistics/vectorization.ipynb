{
 "cells": [
  {
   "cell_type": "markdown",
   "metadata": {},
   "source": [
    "Timing Vectorized Operations in Numpy\n",
    "---------------------------------------"
   ]
  },
  {
   "cell_type": "code",
   "execution_count": 1,
   "metadata": {},
   "outputs": [],
   "source": [
    "import numpy as np\n",
    "from timeit import Timer\n",
    "pure_py_list = list(range(10**6))\n",
    "num_py_array = np.array(pure_py_list)"
   ]
  },
  {
   "cell_type": "markdown",
   "metadata": {},
   "source": [
    "Lets write the functions to add sum number to each element of list\n",
    "-------------------------------------------------------------------"
   ]
  },
  {
   "cell_type": "code",
   "execution_count": 5,
   "metadata": {},
   "outputs": [],
   "source": [
    "def for_add():\n",
    "    return [ item+1 for item in pure_py_list ]\n",
    "\n",
    "def vec_add():\n",
    "    return num_py_array + 1"
   ]
  },
  {
   "cell_type": "markdown",
   "metadata": {},
   "source": [
    "#### Lets execute each function with pure python list and vector addition of numpy\n",
    "* Lets run each function 10 times and find the minimum time"
   ]
  },
  {
   "cell_type": "code",
   "execution_count": 11,
   "metadata": {},
   "outputs": [
    {
     "name": "stdout",
     "output_type": "stream",
     "text": [
      "Pure python list experiment\n",
      "1.2317427000000407\n"
     ]
    }
   ],
   "source": [
    "print(\"Pure python list experiment\")\n",
    "print(min(Timer(for_add).repeat(10,10)))"
   ]
  },
  {
   "cell_type": "code",
   "execution_count": 12,
   "metadata": {},
   "outputs": [
    {
     "name": "stdout",
     "output_type": "stream",
     "text": [
      "numpy array experiment\n",
      "0.019618199999968056\n"
     ]
    }
   ],
   "source": [
    "print(\"numpy array experiment\")\n",
    "print(min(Timer(vec_add).repeat(10,10)))"
   ]
  },
  {
   "cell_type": "markdown",
   "metadata": {},
   "source": [
    "* Lets run multiply function 10 times and find the minimum time"
   ]
  },
  {
   "cell_type": "code",
   "execution_count": 14,
   "metadata": {},
   "outputs": [
    {
     "name": "stdout",
     "output_type": "stream",
     "text": [
      "numpy array experiment\n",
      "0.10103699999990567\n",
      "Pure python list experiment\n",
      "1.287540300000046\n"
     ]
    }
   ],
   "source": [
    "def for_mul():\n",
    "    return [ number * 2 for number in pure_py_list]\n",
    "\n",
    "def vec_mul():\n",
    "    return num_py_array * 2\n",
    "\n",
    "print(\"numpy array experiment\")\n",
    "print(min(Timer(vec_mul).repeat(10,10)))\n",
    "\n",
    "print(\"Pure python list experiment\")\n",
    "print(min(Timer(for_mul).repeat(10,10)))\n",
    "\n",
    "   "
   ]
  },
  {
   "cell_type": "markdown",
   "metadata": {},
   "source": [
    "* Exercise: Find the time taken for division, modulus and power for pure python lists and numpy arrays"
   ]
  }
 ],
 "metadata": {
  "interpreter": {
   "hash": "0323123eee0aa214712d62f1ce5cae745cb7aa6e91cd5750003a553b6dd184b0"
  },
  "kernelspec": {
   "display_name": "Python 3.9.7 ('base')",
   "language": "python",
   "name": "python3"
  },
  "language_info": {
   "codemirror_mode": {
    "name": "ipython",
    "version": 3
   },
   "file_extension": ".py",
   "mimetype": "text/x-python",
   "name": "python",
   "nbconvert_exporter": "python",
   "pygments_lexer": "ipython3",
   "version": "3.9.7"
  },
  "orig_nbformat": 4
 },
 "nbformat": 4,
 "nbformat_minor": 2
}
