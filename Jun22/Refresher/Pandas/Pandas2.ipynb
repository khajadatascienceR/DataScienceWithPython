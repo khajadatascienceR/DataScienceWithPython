{
 "cells": [
  {
   "cell_type": "markdown",
   "metadata": {},
   "source": [
    "Panda Series\n",
    "-------------"
   ]
  },
  {
   "cell_type": "code",
   "execution_count": 2,
   "metadata": {},
   "outputs": [
    {
     "name": "stderr",
     "output_type": "stream",
     "text": [
      "C:\\Users\\Dell\\AppData\\Local\\Temp\\ipykernel_23544\\3418071402.py:4: DeprecationWarning: The default dtype for empty Series will be 'object' instead of 'float64' in a future version. Specify a dtype explicitly to silence this warning.\n",
      "  pd.Series()\n"
     ]
    },
    {
     "data": {
      "text/plain": [
       "Series([], dtype: float64)"
      ]
     },
     "execution_count": 2,
     "metadata": {},
     "output_type": "execute_result"
    }
   ],
   "source": [
    "import pandas as pd\n",
    "import numpy as np\n",
    "\n",
    "pd.Series()"
   ]
  },
  {
   "cell_type": "code",
   "execution_count": 3,
   "metadata": {},
   "outputs": [
    {
     "data": {
      "text/plain": [
       "0        Vanilla\n",
       "1    Butterscoth\n",
       "2     Strawberry\n",
       "3      Chocolate\n",
       "dtype: object"
      ]
     },
     "execution_count": 3,
     "metadata": {},
     "output_type": "execute_result"
    }
   ],
   "source": [
    "icecream_flavors = [\"Vanilla\", \"Butterscoth\", \"Strawberry\", \"Chocolate\"]\n",
    "pd.Series(icecream_flavors)"
   ]
  },
  {
   "cell_type": "code",
   "execution_count": null,
   "metadata": {},
   "outputs": [],
   "source": [
    "pd.Series(\n",
    "    data=None,\n",
    "    index=None,\n",
    "    dtype=None,\n",
    "    name=None,\n",
    "    copy=False,\n",
    "    fastpath=False\n",
    "\n",
    ")"
   ]
  },
  {
   "cell_type": "code",
   "execution_count": 4,
   "metadata": {},
   "outputs": [
    {
     "data": {
      "text/plain": [
       "Monday           Vanilla\n",
       "Wednesday    Butterscoth\n",
       "Thursday      Strawberry\n",
       "Saturday       Chocolate\n",
       "dtype: object"
      ]
     },
     "execution_count": 4,
     "metadata": {},
     "output_type": "execute_result"
    }
   ],
   "source": [
    "# Customizing index\n",
    "icecream_flavors = [\"Vanilla\", \"Butterscoth\", \"Strawberry\", \"Chocolate\"]\n",
    "days_of_week = (\"Monday\", \"Wednesday\", \"Thursday\", \"Saturday\")\n",
    "pd.Series(data=icecream_flavors, index=days_of_week)"
   ]
  },
  {
   "cell_type": "code",
   "execution_count": 7,
   "metadata": {},
   "outputs": [
    {
     "data": {
      "text/plain": [
       "Monday       46600\n",
       "Wednesday    46700\n",
       "Thursday     46800\n",
       "Saturday     46900\n",
       "dtype: int64"
      ]
     },
     "execution_count": 7,
     "metadata": {},
     "output_type": "execute_result"
    }
   ],
   "source": [
    "# Create a Series object with gold prices and days of the week as index\n",
    "\n",
    "days_of_week = (\"Monday\", \"Wednesday\", \"Thursday\", \"Saturday\")\n",
    "price_of_week = [46600, 46700,46800,46900]\n",
    "pd.Series(data=price_of_week, index=days_of_week)"
   ]
  },
  {
   "cell_type": "code",
   "execution_count": 8,
   "metadata": {},
   "outputs": [
    {
     "data": {
      "text/plain": [
       "Monday       46600.0\n",
       "Wednesday    46700.0\n",
       "Thursday     46800.0\n",
       "Saturday         NaN\n",
       "dtype: float64"
      ]
     },
     "execution_count": 8,
     "metadata": {},
     "output_type": "execute_result"
    }
   ],
   "source": [
    "# Missing data\n",
    "price_of_week = [46600, 46700,46800,np.nan]\n",
    "pd.Series(data=price_of_week, index=days_of_week)\n"
   ]
  },
  {
   "cell_type": "code",
   "execution_count": 12,
   "metadata": {},
   "outputs": [
    {
     "name": "stdout",
     "output_type": "stream",
     "text": [
      "Rice       136\n",
      "Chapati     79\n",
      "dal        104\n",
      "dtype: int64\n",
      "0          Vikram\n",
      "1            Thor\n",
      "2    VirataParvam\n",
      "3           Major\n",
      "dtype: object\n"
     ]
    }
   ],
   "source": [
    "# Creating series from python dictionary\n",
    "calorie_info = {\n",
    "    'Rice': 136,\n",
    "    'Chapati': 79,\n",
    "    'dal': 104\n",
    "}\n",
    "\n",
    "diet = pd.Series(calorie_info)\n",
    "print(diet)\n",
    "\n",
    "# Creating series from python set\n",
    "my_favorite_movies_recently = { \"Vikram\", \"Thor\", \"Major\", \"VirataParvam\" }\n",
    "movies = pd.Series(list(my_favorite_movies_recently))\n",
    "print(movies)\n"
   ]
  },
  {
   "cell_type": "code",
   "execution_count": 21,
   "metadata": {},
   "outputs": [
    {
     "name": "stdout",
     "output_type": "stream",
     "text": [
      "['Vikram' 'Thor' 'VirataParvam' 'Major']\n",
      "<class 'numpy.ndarray'>\n",
      "4\n",
      "(4,)\n",
      "0    Vikram\n",
      "1      Thor\n",
      "dtype: object\n",
      "2    VirataParvam\n",
      "3           Major\n",
      "dtype: object\n"
     ]
    },
    {
     "data": {
      "text/plain": [
       "Rice       137\n",
       "Chapati     80\n",
       "dal        105\n",
       "dtype: int64"
      ]
     },
     "execution_count": 21,
     "metadata": {},
     "output_type": "execute_result"
    }
   ],
   "source": [
    "print(movies.values)\n",
    "print(type(movies.values))\n",
    "print(movies.size)\n",
    "print(movies.shape)\n",
    "print(movies.head(2))\n",
    "print(movies.tail(2))\n",
    "\n",
    "diet + 1"
   ]
  },
  {
   "cell_type": "code",
   "execution_count": 42,
   "metadata": {},
   "outputs": [
    {
     "name": "stdout",
     "output_type": "stream",
     "text": [
      "            type                                title  \\\n",
      "show_id                                                 \n",
      "s1         Movie                 Dick Johnson Is Dead   \n",
      "s7         Movie     My Little Pony: A New Generation   \n",
      "s11      TV Show  Vendetta: Truth, Lies and The Mafia   \n",
      "s10        Movie                         The Starling   \n",
      "s9       TV Show        The Great British Baking Show   \n",
      "\n",
      "                              director  \\\n",
      "show_id                                  \n",
      "s1                     Kirsten Johnson   \n",
      "s7       Robert Cullen, José Luis Ucha   \n",
      "s11                                NaN   \n",
      "s10                     Theodore Melfi   \n",
      "s9                     Andy Devonshire   \n",
      "\n",
      "                                                      cast         country  \\\n",
      "show_id                                                                      \n",
      "s1                                                     NaN   United States   \n",
      "s7       Vanessa Hudgens, Kimiko Glenn, James Marsden, ...             NaN   \n",
      "s11                                                    NaN             NaN   \n",
      "s10      Melissa McCarthy, Chris O'Dowd, Kevin Kline, T...   United States   \n",
      "s9       Mel Giedroyc, Sue Perkins, Mary Berry, Paul Ho...  United Kingdom   \n",
      "\n",
      "        date_added  release_year rating   duration  \\\n",
      "show_id                                              \n",
      "s1      2021-09-25          2020  PG-13     90 min   \n",
      "s7      2021-09-24          2021     PG     91 min   \n",
      "s11     2021-09-24          2021  TV-MA   1 Season   \n",
      "s10     2021-09-24          2021  PG-13    104 min   \n",
      "s9      2021-09-24          2021  TV-14  9 Seasons   \n",
      "\n",
      "                                                 listed_in  \\\n",
      "show_id                                                      \n",
      "s1                                           Documentaries   \n",
      "s7                                Children & Family Movies   \n",
      "s11      Crime TV Shows, Docuseries, International TV S...   \n",
      "s10                                       Comedies, Dramas   \n",
      "s9                            British TV Shows, Reality TV   \n",
      "\n",
      "                                               description  \n",
      "show_id                                                     \n",
      "s1       As her father nears the end of his life, filmm...  \n",
      "s7       Equestria's divided. But a bright-eyed hero be...  \n",
      "s11      Sicily boasts a bold \"Anti-Mafia\" coalition. B...  \n",
      "s10      A woman adjusting to life after a loss contend...  \n",
      "s9       A talented batch of amateur bakers face off in...  \n",
      "            type                title  \\\n",
      "show_id                                 \n",
      "s1185      Movie  The Yin Yang Master   \n",
      "s911       Movie              Monster   \n",
      "s298     TV Show             Navarasa   \n",
      "s300       Movie            The Swarm   \n",
      "s301       Movie                 Vivo   \n",
      "\n",
      "                                                  director  \\\n",
      "show_id                                                      \n",
      "s1185                                            Li Weiran   \n",
      "s911                                       Anthony Mandler   \n",
      "s298     Bejoy Nambiar, Priyadarshan, Karthik Narain, V...   \n",
      "s300                                        Just Philippot   \n",
      "s301                        Kirk DeMicco, Brandon Jeffords   \n",
      "\n",
      "                                                      cast  \\\n",
      "show_id                                                      \n",
      "s1185    Chen Kun, Zhou Xun, Qu Chuxiao, Shen Yue, Will...   \n",
      "s911     Kelvin Harrison Jr., Jennifer Hudson, Jeffrey ...   \n",
      "s298     Suriya, Vijay Sethupathi, Revathy, Prakash Raj...   \n",
      "s300     Suliane Brahim, Sofian Khammes, Marie Narbonne...   \n",
      "s301     Lin-Manuel Miranda, Ynairaly Simo, Zoe Saldana...   \n",
      "\n",
      "                       country date_added  release_year rating  duration  \\\n",
      "show_id                                                                    \n",
      "s1185                    China 2021-03-19          2021  TV-14   120 min   \n",
      "s911             United States 2021-05-07          2021  TV-MA    99 min   \n",
      "s298                     India 2021-08-06          2021  TV-MA  1 Season   \n",
      "s300                    France 2021-08-06          2021  TV-14   102 min   \n",
      "s301     Canada, United States 2021-08-06          2021     PG   100 min   \n",
      "\n",
      "                                                 listed_in  \\\n",
      "show_id                                                      \n",
      "s1185             Action & Adventure, International Movies   \n",
      "s911                                                Dramas   \n",
      "s298                                              TV Shows   \n",
      "s300     Horror Movies, Independent Movies, Internation...   \n",
      "s301            Children & Family Movies, Music & Musicals   \n",
      "\n",
      "                                               description  \n",
      "show_id                                                     \n",
      "s1185    A feud erupts between realms, and Yin Yang mas...  \n",
      "s911     A talented teen implicated in a robbery-turned...  \n",
      "s298     From amusement to awe, the nine human emotions...  \n",
      "s300     A single mother breeds locusts as high-protein...  \n",
      "s301     A music-loving kinkajou embarks on the journey...  \n",
      "          type                    title  \\\n",
      "show_id                                   \n",
      "s8588    Movie              Thunderbolt   \n",
      "s7295    Movie       Let There Be Light   \n",
      "s7220    Movie  Know Your Enemy - Japan   \n",
      "s8641    Movie         Tunisian Victory   \n",
      "s8206    Movie     The Battle of Midway   \n",
      "\n",
      "                                                  director  \\\n",
      "show_id                                                      \n",
      "s8588                          William Wyler, John Sturges   \n",
      "s7295                                          John Huston   \n",
      "s7220                             Frank Capra, Joris Ivens   \n",
      "s8641    Frank Capra, John Huston, Hugh Stewart, Roy Bo...   \n",
      "s8206                                            John Ford   \n",
      "\n",
      "                                 cast                        country  \\\n",
      "show_id                                                                \n",
      "s8588    James Stewart, Lloyd Bridges                  United States   \n",
      "s7295                   Walter Huston                  United States   \n",
      "s7220     Walter Huston, Dana Andrews                  United States   \n",
      "s8641                Burgess Meredith  United States, United Kingdom   \n",
      "s8206       Henry Fonda, Jane Darwell                  United States   \n",
      "\n",
      "        date_added  release_year rating duration  \\\n",
      "show_id                                            \n",
      "s8588   2017-03-31          1947  TV-PG   42 min   \n",
      "s7295   2017-03-31          1946  TV-PG   58 min   \n",
      "s7220   2017-03-31          1945  TV-14   63 min   \n",
      "s8641   2017-03-31          1944  TV-14   76 min   \n",
      "s8206   2017-03-31          1942  TV-14   18 min   \n",
      "\n",
      "                             listed_in  \\\n",
      "show_id                                  \n",
      "s8588    Classic Movies, Documentaries   \n",
      "s7295    Classic Movies, Documentaries   \n",
      "s7220    Classic Movies, Documentaries   \n",
      "s8641    Classic Movies, Documentaries   \n",
      "s8206    Classic Movies, Documentaries   \n",
      "\n",
      "                                               description  \n",
      "show_id                                                     \n",
      "s8588    A P-47 Thunderbolt squadron is shown in prepar...  \n",
      "s7295    Some returning combat veterans suffer scars th...  \n",
      "s7220    Though culturally insensitive by modern standa...  \n",
      "s8641    British and American troops join forces to lib...  \n",
      "s8206    Director John Ford captures combat footage of ...  \n"
     ]
    }
   ],
   "source": [
    "netflix_titles = pd.read_csv(filepath_or_buffer=\"netflix_titles.csv\", index_col=\"show_id\", parse_dates=[\"date_added\"])\n",
    "#print(netflix_titles.head(5))\n",
    "#\n",
    "print(netflix_titles.sort_values(ascending = False, by=\"date_added\").head())\n",
    "#pd.Series(data=[\"Admin\", \"architect\", \"tester\", \"developer\"]).sort_values(ascending=False)\n",
    "netflix_titles = netflix_titles.dropna()\n",
    "netflix_titles.sort_values(ascending = False, by=\"date_added\").head()\n",
    "\n",
    "# finding out smallest n and largest n values\n",
    "\n",
    "movies = netflix_titles.sort_values(ascending = False, by='release_year')\n",
    "# find the latest 5 movies\n",
    "print(movies.head(5))\n",
    "# find the oldest 5 movies\n",
    "print(movies.tail(5))\n",
    "\n",
    "\n"
   ]
  },
  {
   "cell_type": "code",
   "execution_count": 49,
   "metadata": {},
   "outputs": [
    {
     "name": "stdout",
     "output_type": "stream",
     "text": [
      "<class 'pandas.core.series.Series'>\n",
      "United States                                   1846\n",
      "India                                            875\n",
      "United Kingdom                                   183\n",
      "Canada                                           107\n",
      "Spain                                             91\n",
      "                                                ... \n",
      "Uruguay, Guatemala                                 1\n",
      "Romania, Bulgaria, Hungary                         1\n",
      "Philippines, United States                         1\n",
      "India, United Kingdom, Canada, United States       1\n",
      "United Arab Emirates, Jordan                       1\n",
      "Name: country, Length: 604, dtype: int64\n"
     ]
    },
    {
     "data": {
      "text/plain": [
       "(1941.92, 1955.167]       10\n",
       "(1955.167, 1968.333]      26\n",
       "(1968.333, 1981.5]        86\n",
       "(1981.5, 1994.667]       184\n",
       "(1994.667, 2007.833]     574\n",
       "(2007.833, 2021.0]      4452\n",
       "Name: release_year, dtype: int64"
      ]
     },
     "execution_count": 49,
     "metadata": {},
     "output_type": "execute_result"
    }
   ],
   "source": [
    "print(type(netflix_titles['country']))\n",
    "print(netflix_titles['country'].value_counts())\n",
    "\n",
    "netflix_titles['release_year'].value_counts(bins=6, sort=False)\n"
   ]
  },
  {
   "cell_type": "code",
   "execution_count": 53,
   "metadata": {},
   "outputs": [
    {
     "data": {
      "text/html": [
       "<div>\n",
       "<style scoped>\n",
       "    .dataframe tbody tr th:only-of-type {\n",
       "        vertical-align: middle;\n",
       "    }\n",
       "\n",
       "    .dataframe tbody tr th {\n",
       "        vertical-align: top;\n",
       "    }\n",
       "\n",
       "    .dataframe thead th {\n",
       "        text-align: right;\n",
       "    }\n",
       "</style>\n",
       "<table border=\"1\" class=\"dataframe\">\n",
       "  <thead>\n",
       "    <tr style=\"text-align: right;\">\n",
       "      <th></th>\n",
       "      <th>City</th>\n",
       "      <th>State</th>\n",
       "      <th>Population</th>\n",
       "    </tr>\n",
       "  </thead>\n",
       "  <tbody>\n",
       "    <tr>\n",
       "      <th>0</th>\n",
       "      <td>Mumbai</td>\n",
       "      <td>Maharastra</td>\n",
       "      <td>12691836</td>\n",
       "    </tr>\n",
       "    <tr>\n",
       "      <th>1</th>\n",
       "      <td>Delhi</td>\n",
       "      <td>Delhi</td>\n",
       "      <td>10927986</td>\n",
       "    </tr>\n",
       "    <tr>\n",
       "      <th>2</th>\n",
       "      <td>Bengaluru</td>\n",
       "      <td>Karnataka</td>\n",
       "      <td>8443675</td>\n",
       "    </tr>\n",
       "    <tr>\n",
       "      <th>3</th>\n",
       "      <td>Hyderabad</td>\n",
       "      <td>Telangana</td>\n",
       "      <td>6809970</td>\n",
       "    </tr>\n",
       "  </tbody>\n",
       "</table>\n",
       "</div>"
      ],
      "text/plain": [
       "        City       State  Population\n",
       "0     Mumbai  Maharastra    12691836\n",
       "1      Delhi       Delhi    10927986\n",
       "2  Bengaluru   Karnataka     8443675\n",
       "3  Hyderabad   Telangana     6809970"
      ]
     },
     "execution_count": 53,
     "metadata": {},
     "output_type": "execute_result"
    }
   ],
   "source": [
    "# Create a python dictionary\n",
    "city_data = {\n",
    "    \"City\": [\"Mumbai\", \"Delhi\", \"Bengaluru\", \"Hyderabad\"],\n",
    "    \"State\": [\"Maharastra\", \"Delhi\", \"Karnataka\", \"Telangana\"],\n",
    "    \"Population\": [12691836, 10927986, 8443675, 6809970 ]\n",
    "}\n",
    "cities = pd.DataFrame(data=city_data)\n",
    "cities\n",
    "\n",
    "# Other option is to create a csv file and import it."
   ]
  }
 ],
 "metadata": {
  "kernelspec": {
   "display_name": "Python 3.9.7 ('base')",
   "language": "python",
   "name": "python3"
  },
  "language_info": {
   "codemirror_mode": {
    "name": "ipython",
    "version": 3
   },
   "file_extension": ".py",
   "mimetype": "text/x-python",
   "name": "python",
   "nbconvert_exporter": "python",
   "pygments_lexer": "ipython3",
   "version": "3.9.7"
  },
  "orig_nbformat": 4,
  "vscode": {
   "interpreter": {
    "hash": "a2ab3825ac7005fb7b26f112e9c99ae62f464c629e30b0d534c3b931b6cbc3ff"
   }
  }
 },
 "nbformat": 4,
 "nbformat_minor": 2
}
