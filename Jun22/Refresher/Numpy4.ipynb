{
 "cells": [
  {
   "cell_type": "code",
   "execution_count": 2,
   "id": "371d621c",
   "metadata": {},
   "outputs": [
    {
     "name": "stdout",
     "output_type": "stream",
     "text": [
      "Result of add\n",
      "[7 9 11 13 15]\n",
      "Result of sub\n",
      "[-5 -5 -5 -5 -5]\n"
     ]
    }
   ],
   "source": [
    "import numpy as np\n",
    "\n",
    "def my_add(x,y):\n",
    "    return x+y\n",
    "\n",
    "def my_sub(x,y):\n",
    "    return x-y\n",
    "\n",
    "my_add = np.frompyfunc(my_add,2,1)\n",
    "my_sub = np.frompyfunc(my_sub,2,1)\n",
    "\n",
    "print(\"Result of add\")\n",
    "print(my_add([1,2,3,4,5], [6,7,8,9,10]))\n",
    "print(\"Result of sub\")\n",
    "print(my_sub([1,2,3,4,5], [6,7,8,9,10]))\n"
   ]
  },
  {
   "cell_type": "code",
   "execution_count": 4,
   "id": "5eb3b9b3",
   "metadata": {},
   "outputs": [
    {
     "name": "stdout",
     "output_type": "stream",
     "text": [
      "<class 'numpy.ufunc'>\n",
      "<class 'numpy.ufunc'>\n"
     ]
    }
   ],
   "source": [
    "print(type(np.add))\n",
    "print(type(my_add))\n"
   ]
  },
  {
   "cell_type": "code",
   "execution_count": 5,
   "id": "d557b838",
   "metadata": {},
   "outputs": [
    {
     "name": "stdout",
     "output_type": "stream",
     "text": [
      "[12 24 36]\n",
      "[ 8 16 24]\n",
      "[ 20  80 180]\n",
      "[5. 5. 5.]\n",
      "[      100    160000 729000000]\n",
      "[0 0 0]\n"
     ]
    }
   ],
   "source": [
    "arr1 = np.array([10,20,30])\n",
    "arr2 = np.array([2,4,6])\n",
    "\n",
    "print(np.add(arr1,arr2))\n",
    "print(np.subtract(arr1,arr2))\n",
    "print(np.multiply(arr1,arr2))\n",
    "print(np.divide(arr1,arr2))\n",
    "print(np.power(arr1,arr2))\n",
    "print(np.mod(arr1,arr2))"
   ]
  },
  {
   "cell_type": "code",
   "execution_count": 11,
   "id": "d9b026e0",
   "metadata": {},
   "outputs": [
    {
     "name": "stdout",
     "output_type": "stream",
     "text": [
      "[-33.  33.]\n",
      "[-33.  33.]\n",
      "[-34.  33.]\n",
      "[-33.  34.]\n",
      "33.33\n"
     ]
    }
   ],
   "source": [
    "print(np.trunc([-33.3333333333333, 33.3333333333333]))\n",
    "print(np.fix([-33.3333333333333, 33.3333333333333]))\n",
    "print(np.floor([-33.3333333333333, 33.3333333333333]))\n",
    "print(np.ceil([-33.3333333333333, 33.3333333333333]))\n",
    "\n",
    "print(np.round(33.3333333333333, 2))\n"
   ]
  },
  {
   "cell_type": "code",
   "execution_count": 16,
   "id": "1214876c",
   "metadata": {},
   "outputs": [
    {
     "name": "stdout",
     "output_type": "stream",
     "text": [
      "[0.         1.         1.5849625  2.         2.32192809 2.5849625\n",
      " 2.80735492 3.         3.169925  ]\n",
      "[0.         0.30103    0.47712125 0.60205999 0.69897    0.77815125\n",
      " 0.84509804 0.90308999 0.95424251]\n",
      "[0.         0.69314718 1.09861229 1.38629436 1.60943791 1.79175947\n",
      " 1.94591015 2.07944154 2.19722458]\n",
      "1.7005483074552052\n"
     ]
    }
   ],
   "source": [
    "# log at base2\n",
    "arr = np.arange(1,10)\n",
    "print(np.log2(arr)) # base 2\n",
    "print(np.log10(arr)) # base 10\n",
    "print(np.log(arr)) # base e\n",
    "from math import log\n",
    "nplog = np.frompyfunc(log,2,1)\n",
    "print(nplog(100,15))"
   ]
  },
  {
   "cell_type": "code",
   "execution_count": 20,
   "id": "e77c618e",
   "metadata": {},
   "outputs": [
    {
     "name": "stdout",
     "output_type": "stream",
     "text": [
      "12\n",
      "18\n",
      "232792560\n"
     ]
    }
   ],
   "source": [
    "print(np.lcm(4,6))\n",
    "arr = np.array([3,6,9])\n",
    "print(np.lcm.reduce(arr))\n",
    "arr = np.arange(1,20)\n",
    "print(np.lcm.reduce(arr))"
   ]
  },
  {
   "cell_type": "code",
   "execution_count": 24,
   "id": "1a12e662",
   "metadata": {},
   "outputs": [
    {
     "name": "stdout",
     "output_type": "stream",
     "text": [
      "3\n",
      "3\n",
      "1\n"
     ]
    }
   ],
   "source": [
    "print(np.gcd(6,9))\n",
    "arr = np.array([3,6,9])\n",
    "print(np.gcd.reduce(arr))\n",
    "arr = np.arange(2,20)\n",
    "print(np.gcd.reduce(arr))"
   ]
  },
  {
   "cell_type": "code",
   "execution_count": 26,
   "id": "3ef5969a",
   "metadata": {},
   "outputs": [
    {
     "name": "stdout",
     "output_type": "stream",
     "text": [
      "1.0\n",
      "[0.         0.52359878 0.78539816 1.57079633 3.14159265 4.71238898\n",
      " 6.28318531]\n"
     ]
    }
   ],
   "source": [
    "print(np.sin(np.pi/2))\n",
    "\n",
    "arr = np.array([0,30,45,90,180,270,360])\n",
    "# convert degree to radins\n",
    "radians = np.deg2rad(arr)\n",
    "print(radians)\n"
   ]
  },
  {
   "cell_type": "code",
   "execution_count": 32,
   "id": "33e1454e",
   "metadata": {},
   "outputs": [
    {
     "name": "stdout",
     "output_type": "stream",
     "text": [
      "[1 2 3 4 5 6 7 8]\n",
      "[10 20 30 40 50 60 70 80]\n",
      "[40 50]\n",
      "[10 20 30]\n",
      "[10 20 30 60 70 80]\n"
     ]
    }
   ],
   "source": [
    "arr = np.array([1,2,3,2,3,4,5,4,6,7,5,8])\n",
    "uniq_arr = np.unique(arr)\n",
    "print(uniq_arr)\n",
    "\n",
    "arr1 = np.array([10,20,30,40,50])\n",
    "arr2 = np.array([40,50,60,70,80])\n",
    "\n",
    "print(np.union1d(arr1,arr2))\n",
    "print(np.intersect1d(arr1,arr2))\n",
    "print(np.setdiff1d(arr1,arr2))\n",
    "print(np.setxor1d(arr1,arr2))\n"
   ]
  }
 ],
 "metadata": {
  "kernelspec": {
   "display_name": "Python 3 (ipykernel)",
   "language": "python",
   "name": "python3"
  },
  "language_info": {
   "codemirror_mode": {
    "name": "ipython",
    "version": 3
   },
   "file_extension": ".py",
   "mimetype": "text/x-python",
   "name": "python",
   "nbconvert_exporter": "python",
   "pygments_lexer": "ipython3",
   "version": "3.9.7"
  }
 },
 "nbformat": 4,
 "nbformat_minor": 5
}
