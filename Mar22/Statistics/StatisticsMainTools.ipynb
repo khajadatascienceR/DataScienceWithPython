{
 "cells": [
  {
   "cell_type": "code",
   "execution_count": 3,
   "id": "04e4865a",
   "metadata": {},
   "outputs": [],
   "source": [
    "#import sys\n",
    "#!conda install --yes --prefix {sys.prefix} numpy"
   ]
  },
  {
   "cell_type": "markdown",
   "id": "baeff6c3",
   "metadata": {},
   "source": [
    "* To create a numpy array, the most common way is to pass a python list"
   ]
  },
  {
   "cell_type": "code",
   "execution_count": 4,
   "id": "026c0a8c",
   "metadata": {},
   "outputs": [
    {
     "name": "stdout",
     "output_type": "stream",
     "text": [
      "Collecting package metadata (current_repodata.json): ...working... done\n",
      "Solving environment: ...working... done\n",
      "\n",
      "# All requested packages already installed.\n",
      "\n",
      "[1 2 3 4]\n",
      "2\n"
     ]
    }
   ],
   "source": [
    "import numpy\n",
    "array = numpy.array([1,2,3,4])\n",
    "print(array)\n",
    "print(array[1])"
   ]
  },
  {
   "cell_type": "markdown",
   "id": "3e0448fb",
   "metadata": {},
   "source": [
    "* The biggest difference when compared to python lists is Num Py array need to be of the same type."
   ]
  },
  {
   "cell_type": "code",
   "execution_count": 5,
   "id": "8c03c03b",
   "metadata": {},
   "outputs": [
    {
     "name": "stdout",
     "output_type": "stream",
     "text": [
      "['1' '2' 'a']\n"
     ]
    }
   ],
   "source": [
    "array = numpy.array([1,2,'a'])\n",
    "print(array)"
   ]
  },
  {
   "cell_type": "markdown",
   "id": "5d5fb18e",
   "metadata": {},
   "source": [
    "* As shown in the above example if create numpy array with two numbers and one string, this causes Numpy to forcibly convert all elements in the array into strings"
   ]
  },
  {
   "cell_type": "code",
   "execution_count": 6,
   "id": "86af6caf",
   "metadata": {},
   "outputs": [
    {
     "data": {
      "text/plain": [
       "array(['1', '2', 'a'], dtype='<U11')"
      ]
     },
     "execution_count": 6,
     "metadata": {},
     "output_type": "execute_result"
    }
   ],
   "source": [
    "array\n",
    "# U11 denotes the UniCode Strings with fewer than 11 Characters"
   ]
  },
  {
   "cell_type": "code",
   "execution_count": 8,
   "id": "95144c5b",
   "metadata": {},
   "outputs": [
    {
     "data": {
      "text/plain": [
       "array([1. , 2.5])"
      ]
     },
     "execution_count": 8,
     "metadata": {},
     "output_type": "execute_result"
    }
   ],
   "source": [
    "array = numpy.array([1, 2.5])\n",
    "array"
   ]
  },
  {
   "cell_type": "markdown",
   "id": "4d490b6e",
   "metadata": {},
   "source": [
    "* We can create multi-dimensional Python lists, NumPy arrays support the same option:"
   ]
  },
  {
   "cell_type": "code",
   "execution_count": 9,
   "id": "be357420",
   "metadata": {},
   "outputs": [
    {
     "data": {
      "text/plain": [
       "array([[1, 2, 3],\n",
       "       [4, 5, 6],\n",
       "       [7, 8, 9]])"
      ]
     },
     "execution_count": 9,
     "metadata": {},
     "output_type": "execute_result"
    }
   ],
   "source": [
    "matrices_np = numpy.array([[1,2,3],[4,5,6],[7,8,9]])\n",
    "matrices_np"
   ]
  },
  {
   "cell_type": "markdown",
   "id": "8a0c68f5",
   "metadata": {},
   "source": [
    "* We can create Numpy Arrays that are in a specific form\n",
    "* If we want a matirx full of zeros or ones"
   ]
  },
  {
   "cell_type": "code",
   "execution_count": 11,
   "id": "af4ce421",
   "metadata": {},
   "outputs": [
    {
     "name": "stdout",
     "output_type": "stream",
     "text": [
      "[[0. 0.]\n",
      " [0. 0.]]\n"
     ]
    },
    {
     "data": {
      "text/plain": [
       "array([[0., 0.],\n",
       "       [0., 0.]])"
      ]
     },
     "execution_count": 11,
     "metadata": {},
     "output_type": "execute_result"
    }
   ],
   "source": [
    "zero_matrix = numpy.zeros((2,2))\n",
    "print(zero_matrix)\n",
    "zero_matrix"
   ]
  },
  {
   "cell_type": "code",
   "execution_count": 12,
   "id": "9ecdc906",
   "metadata": {},
   "outputs": [
    {
     "name": "stdout",
     "output_type": "stream",
     "text": [
      "[[[1. 1. 1.]\n",
      "  [1. 1. 1.]\n",
      "  [1. 1. 1.]]\n",
      "\n",
      " [[1. 1. 1.]\n",
      "  [1. 1. 1.]\n",
      "  [1. 1. 1.]]]\n"
     ]
    },
    {
     "data": {
      "text/plain": [
       "array([[[1., 1., 1.],\n",
       "        [1., 1., 1.],\n",
       "        [1., 1., 1.]],\n",
       "\n",
       "       [[1., 1., 1.],\n",
       "        [1., 1., 1.],\n",
       "        [1., 1., 1.]]])"
      ]
     },
     "execution_count": 12,
     "metadata": {},
     "output_type": "execute_result"
    }
   ],
   "source": [
    "one_matrix = numpy.ones((2,3,3))\n",
    "print(one_matrix)\n",
    "one_matrix"
   ]
  },
  {
   "cell_type": "code",
   "execution_count": 13,
   "id": "d907c413",
   "metadata": {},
   "outputs": [
    {
     "name": "stdout",
     "output_type": "stream",
     "text": [
      "[[0.55785567 0.23280566]\n",
      " [0.34730564 0.21514765]]\n"
     ]
    }
   ],
   "source": [
    "rand_matrix = numpy.random.rand(2,2)\n",
    "print(rand_matrix)"
   ]
  }
 ],
 "metadata": {
  "kernelspec": {
   "display_name": "Python 3 (ipykernel)",
   "language": "python",
   "name": "python3"
  },
  "language_info": {
   "codemirror_mode": {
    "name": "ipython",
    "version": 3
   },
   "file_extension": ".py",
   "mimetype": "text/x-python",
   "name": "python",
   "nbconvert_exporter": "python",
   "pygments_lexer": "ipython3",
   "version": "3.9.7"
  }
 },
 "nbformat": 4,
 "nbformat_minor": 5
}
