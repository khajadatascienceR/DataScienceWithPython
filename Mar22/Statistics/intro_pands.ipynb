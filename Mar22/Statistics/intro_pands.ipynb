{
 "cells": [
  {
   "cell_type": "markdown",
   "metadata": {},
   "source": [
    "Introduction to pandas\n",
    "-----------------------\n",
    "\n",
    "* [Refer Here](https://pandas.pydata.org/)\n",
    "* [Refer Here](https://pandas.pydata.org/docs/user_guide/index.html) for the user guide"
   ]
  },
  {
   "cell_type": "code",
   "execution_count": 4,
   "metadata": {},
   "outputs": [
    {
     "name": "stdout",
     "output_type": "stream",
     "text": [
      "\u001b[1;31mType:\u001b[0m        module\n",
      "\u001b[1;31mString form:\u001b[0m <module 'pandas' from 'C:\\\\Users\\\\qtkhaja\\\\anaconda3\\\\lib\\\\site-packages\\\\pandas\\\\__init__.py'>\n",
      "\u001b[1;31mFile:\u001b[0m        c:\\users\\qtkhaja\\anaconda3\\lib\\site-packages\\pandas\\__init__.py\n",
      "\u001b[1;31mDocstring:\u001b[0m  \n",
      "pandas - a powerful data analysis and manipulation library for Python\n",
      "=====================================================================\n",
      "\n",
      "**pandas** is a Python package providing fast, flexible, and expressive data\n",
      "structures designed to make working with \"relational\" or \"labeled\" data both\n",
      "easy and intuitive. It aims to be the fundamental high-level building block for\n",
      "doing practical, **real world** data analysis in Python. Additionally, it has\n",
      "the broader goal of becoming **the most powerful and flexible open source data\n",
      "analysis / manipulation tool available in any language**. It is already well on\n",
      "its way toward this goal.\n",
      "\n",
      "Main Features\n",
      "-------------\n",
      "Here are just a few of the things that pandas does well:\n",
      "\n",
      "  - Easy handling of missing data in floating point as well as non-floating\n",
      "    point data.\n",
      "  - Size mutability: columns can be inserted and deleted from DataFrame and\n",
      "    higher dimensional objects\n",
      "  - Automatic and explicit data alignment: objects can be explicitly aligned\n",
      "    to a set of labels, or the user can simply ignore the labels and let\n",
      "    `Series`, `DataFrame`, etc. automatically align the data for you in\n",
      "    computations.\n",
      "  - Powerful, flexible group by functionality to perform split-apply-combine\n",
      "    operations on data sets, for both aggregating and transforming data.\n",
      "  - Make it easy to convert ragged, differently-indexed data in other Python\n",
      "    and NumPy data structures into DataFrame objects.\n",
      "  - Intelligent label-based slicing, fancy indexing, and subsetting of large\n",
      "    data sets.\n",
      "  - Intuitive merging and joining data sets.\n",
      "  - Flexible reshaping and pivoting of data sets.\n",
      "  - Hierarchical labeling of axes (possible to have multiple labels per tick).\n",
      "  - Robust IO tools for loading data from flat files (CSV and delimited),\n",
      "    Excel files, databases, and saving/loading data from the ultrafast HDF5\n",
      "    format.\n",
      "  - Time series-specific functionality: date range generation and frequency\n",
      "    conversion, moving window statistics, date shifting and lagging.\n"
     ]
    }
   ],
   "source": [
    "import pandas as pd\n",
    "pd?"
   ]
  },
  {
   "cell_type": "markdown",
   "metadata": {},
   "source": [
    "Initializing a DataFrame Object\n",
    "-------------------------------"
   ]
  },
  {
   "cell_type": "code",
   "execution_count": 6,
   "metadata": {},
   "outputs": [
    {
     "data": {
      "text/html": [
       "<div>\n",
       "<style scoped>\n",
       "    .dataframe tbody tr th:only-of-type {\n",
       "        vertical-align: middle;\n",
       "    }\n",
       "\n",
       "    .dataframe tbody tr th {\n",
       "        vertical-align: top;\n",
       "    }\n",
       "\n",
       "    .dataframe thead th {\n",
       "        text-align: right;\n",
       "    }\n",
       "</style>\n",
       "<table border=\"1\" class=\"dataframe\">\n",
       "  <thead>\n",
       "    <tr style=\"text-align: right;\">\n",
       "      <th></th>\n",
       "      <th>col1</th>\n",
       "      <th>col2</th>\n",
       "      <th>col3</th>\n",
       "    </tr>\n",
       "  </thead>\n",
       "  <tbody>\n",
       "    <tr>\n",
       "      <th>0</th>\n",
       "      <td>1</td>\n",
       "      <td>3</td>\n",
       "      <td>5</td>\n",
       "    </tr>\n",
       "    <tr>\n",
       "      <th>1</th>\n",
       "      <td>2</td>\n",
       "      <td>4</td>\n",
       "      <td>6</td>\n",
       "    </tr>\n",
       "  </tbody>\n",
       "</table>\n",
       "</div>"
      ],
      "text/plain": [
       "   col1  col2  col3\n",
       "0     1     3     5\n",
       "1     2     4     6"
      ]
     },
     "execution_count": 6,
     "metadata": {},
     "output_type": "execute_result"
    }
   ],
   "source": [
    "# initialzing the Dataframe from dictionary\n",
    "import numpy as np\n",
    "import pandas as pd\n",
    "my_dict = { 'col1': [1,2], 'col2': np.array([3,4]), 'col3': [5,6]}\n",
    "df = pd.DataFrame(my_dict)\n",
    "df"
   ]
  },
  {
   "cell_type": "code",
   "execution_count": 7,
   "metadata": {},
   "outputs": [
    {
     "data": {
      "text/html": [
       "<div>\n",
       "<style scoped>\n",
       "    .dataframe tbody tr th:only-of-type {\n",
       "        vertical-align: middle;\n",
       "    }\n",
       "\n",
       "    .dataframe tbody tr th {\n",
       "        vertical-align: top;\n",
       "    }\n",
       "\n",
       "    .dataframe thead th {\n",
       "        text-align: right;\n",
       "    }\n",
       "</style>\n",
       "<table border=\"1\" class=\"dataframe\">\n",
       "  <thead>\n",
       "    <tr style=\"text-align: right;\">\n",
       "      <th></th>\n",
       "      <th>col1</th>\n",
       "      <th>col2</th>\n",
       "      <th>col3</th>\n",
       "      <th>col4</th>\n",
       "    </tr>\n",
       "  </thead>\n",
       "  <tbody>\n",
       "    <tr>\n",
       "      <th>0</th>\n",
       "      <td>1</td>\n",
       "      <td>3</td>\n",
       "      <td>5</td>\n",
       "      <td>7</td>\n",
       "    </tr>\n",
       "    <tr>\n",
       "      <th>1</th>\n",
       "      <td>2</td>\n",
       "      <td>4</td>\n",
       "      <td>6</td>\n",
       "      <td>8</td>\n",
       "    </tr>\n",
       "  </tbody>\n",
       "</table>\n",
       "</div>"
      ],
      "text/plain": [
       "   col1  col2  col3  col4\n",
       "0     1     3     5     7\n",
       "1     2     4     6     8"
      ]
     },
     "execution_count": 7,
     "metadata": {},
     "output_type": "execute_result"
    }
   ],
   "source": [
    "# initializing the dictionary from the 2D Numpy array\n",
    "my_array = np.array([[1,3,5,7], [2,4,6,8]])\n",
    "df_from_np = pd.DataFrame(my_array, columns = ['col1', 'col2', 'col3', 'col4'])\n",
    "df_from_np"
   ]
  },
  {
   "cell_type": "code",
   "execution_count": 9,
   "metadata": {},
   "outputs": [
    {
     "data": {
      "text/html": [
       "<div>\n",
       "<style scoped>\n",
       "    .dataframe tbody tr th:only-of-type {\n",
       "        vertical-align: middle;\n",
       "    }\n",
       "\n",
       "    .dataframe tbody tr th {\n",
       "        vertical-align: top;\n",
       "    }\n",
       "\n",
       "    .dataframe thead th {\n",
       "        text-align: right;\n",
       "    }\n",
       "</style>\n",
       "<table border=\"1\" class=\"dataframe\">\n",
       "  <thead>\n",
       "    <tr style=\"text-align: right;\">\n",
       "      <th></th>\n",
       "      <th>sno</th>\n",
       "      <th>food</th>\n",
       "      <th>size</th>\n",
       "      <th>price</th>\n",
       "    </tr>\n",
       "  </thead>\n",
       "  <tbody>\n",
       "    <tr>\n",
       "      <th>0</th>\n",
       "      <td>1</td>\n",
       "      <td>Build Your Own Pizza</td>\n",
       "      <td>NaN</td>\n",
       "      <td>8.45</td>\n",
       "    </tr>\n",
       "    <tr>\n",
       "      <th>1</th>\n",
       "      <td>2</td>\n",
       "      <td>1 Top Pizza</td>\n",
       "      <td>NaN</td>\n",
       "      <td>6.75</td>\n",
       "    </tr>\n",
       "    <tr>\n",
       "      <th>2</th>\n",
       "      <td>3</td>\n",
       "      <td>Simple Pie Pizza</td>\n",
       "      <td>NaN</td>\n",
       "      <td>5.55</td>\n",
       "    </tr>\n",
       "    <tr>\n",
       "      <th>3</th>\n",
       "      <td>4</td>\n",
       "      <td>Meat Eater Pizza</td>\n",
       "      <td>NaN</td>\n",
       "      <td>8.45</td>\n",
       "    </tr>\n",
       "    <tr>\n",
       "      <th>4</th>\n",
       "      <td>5</td>\n",
       "      <td>BBQ Chicken Pizza</td>\n",
       "      <td>NaN</td>\n",
       "      <td>8.45</td>\n",
       "    </tr>\n",
       "    <tr>\n",
       "      <th>5</th>\n",
       "      <td>6</td>\n",
       "      <td>Green Stripe Pizza</td>\n",
       "      <td>NaN</td>\n",
       "      <td>8.45</td>\n",
       "    </tr>\n",
       "    <tr>\n",
       "      <th>6</th>\n",
       "      <td>7</td>\n",
       "      <td>Art Lover Pizza</td>\n",
       "      <td>NaN</td>\n",
       "      <td>8.45</td>\n",
       "    </tr>\n",
       "    <tr>\n",
       "      <th>7</th>\n",
       "      <td>8</td>\n",
       "      <td>Red Vine Pizza</td>\n",
       "      <td>NaN</td>\n",
       "      <td>8.45</td>\n",
       "    </tr>\n",
       "    <tr>\n",
       "      <th>8</th>\n",
       "      <td>9</td>\n",
       "      <td>Veg Out Pizza</td>\n",
       "      <td>NaN</td>\n",
       "      <td>8.45</td>\n",
       "    </tr>\n",
       "    <tr>\n",
       "      <th>9</th>\n",
       "      <td>10</td>\n",
       "      <td>Link In Pizza</td>\n",
       "      <td>NaN</td>\n",
       "      <td>8.45</td>\n",
       "    </tr>\n",
       "    <tr>\n",
       "      <th>10</th>\n",
       "      <td>11</td>\n",
       "      <td>White Top Pizza</td>\n",
       "      <td>NaN</td>\n",
       "      <td>8.45</td>\n",
       "    </tr>\n",
       "    <tr>\n",
       "      <th>11</th>\n",
       "      <td>13</td>\n",
       "      <td>Caesar (Side Salad)</td>\n",
       "      <td>NaN</td>\n",
       "      <td>3.95</td>\n",
       "    </tr>\n",
       "    <tr>\n",
       "      <th>12</th>\n",
       "      <td>14</td>\n",
       "      <td>Tomato, Basil &amp; Ovalini (Side Salad)</td>\n",
       "      <td>NaN</td>\n",
       "      <td>3.95</td>\n",
       "    </tr>\n",
       "    <tr>\n",
       "      <th>13</th>\n",
       "      <td>15</td>\n",
       "      <td>Roasted Veggie &amp; Gorgonzola (Side Salad)</td>\n",
       "      <td>NaN</td>\n",
       "      <td>3.95</td>\n",
       "    </tr>\n",
       "    <tr>\n",
       "      <th>14</th>\n",
       "      <td>16</td>\n",
       "      <td>Beet &amp; Goat Cheese (Side Salad)</td>\n",
       "      <td>NaN</td>\n",
       "      <td>3.95</td>\n",
       "    </tr>\n",
       "    <tr>\n",
       "      <th>15</th>\n",
       "      <td>17</td>\n",
       "      <td>Antipasto (Entree Salad)</td>\n",
       "      <td>NaN</td>\n",
       "      <td>7.25</td>\n",
       "    </tr>\n",
       "    <tr>\n",
       "      <th>16</th>\n",
       "      <td>18</td>\n",
       "      <td>Chicken Caesar (Entree Salad)</td>\n",
       "      <td>NaN</td>\n",
       "      <td>7.25</td>\n",
       "    </tr>\n",
       "    <tr>\n",
       "      <th>17</th>\n",
       "      <td>20</td>\n",
       "      <td>S'more Pie</td>\n",
       "      <td>NaN</td>\n",
       "      <td>2.00</td>\n",
       "    </tr>\n",
       "    <tr>\n",
       "      <th>18</th>\n",
       "      <td>22</td>\n",
       "      <td>Fountain Drink</td>\n",
       "      <td>NaN</td>\n",
       "      <td>2.10</td>\n",
       "    </tr>\n",
       "    <tr>\n",
       "      <th>19</th>\n",
       "      <td>23</td>\n",
       "      <td>Water</td>\n",
       "      <td>Bottle</td>\n",
       "      <td>1.95</td>\n",
       "    </tr>\n",
       "    <tr>\n",
       "      <th>20</th>\n",
       "      <td>24</td>\n",
       "      <td>Milk</td>\n",
       "      <td>NaN</td>\n",
       "      <td>1.95</td>\n",
       "    </tr>\n",
       "  </tbody>\n",
       "</table>\n",
       "</div>"
      ],
      "text/plain": [
       "    sno                                      food    size  price\n",
       "0     1                      Build Your Own Pizza     NaN   8.45\n",
       "1     2                               1 Top Pizza     NaN   6.75\n",
       "2     3                          Simple Pie Pizza     NaN   5.55\n",
       "3     4                          Meat Eater Pizza     NaN   8.45\n",
       "4     5                         BBQ Chicken Pizza     NaN   8.45\n",
       "5     6                        Green Stripe Pizza     NaN   8.45\n",
       "6     7                           Art Lover Pizza     NaN   8.45\n",
       "7     8                            Red Vine Pizza     NaN   8.45\n",
       "8     9                             Veg Out Pizza     NaN   8.45\n",
       "9    10                             Link In Pizza     NaN   8.45\n",
       "10   11                           White Top Pizza     NaN   8.45\n",
       "11   13                       Caesar (Side Salad)     NaN   3.95\n",
       "12   14      Tomato, Basil & Ovalini (Side Salad)     NaN   3.95\n",
       "13   15  Roasted Veggie & Gorgonzola (Side Salad)     NaN   3.95\n",
       "14   16           Beet & Goat Cheese (Side Salad)     NaN   3.95\n",
       "15   17                  Antipasto (Entree Salad)     NaN   7.25\n",
       "16   18             Chicken Caesar (Entree Salad)     NaN   7.25\n",
       "17   20                                S'more Pie     NaN   2.00\n",
       "18   22                            Fountain Drink     NaN   2.10\n",
       "19   23                                     Water  Bottle   1.95\n",
       "20   24                                      Milk     NaN   1.95"
      ]
     },
     "execution_count": 9,
     "metadata": {},
     "output_type": "execute_result"
    }
   ],
   "source": [
    "# reading from csv\n",
    "df_from_csv = pd.read_csv('sample.csv')\n",
    "df_from_csv"
   ]
  },
  {
   "cell_type": "code",
   "execution_count": 12,
   "metadata": {},
   "outputs": [
    {
     "data": {
      "text/plain": [
       "sno                         1\n",
       "food     Build Your Own Pizza\n",
       "size                      NaN\n",
       "price                    8.45\n",
       "Name: 0, dtype: object"
      ]
     },
     "execution_count": 12,
     "metadata": {},
     "output_type": "execute_result"
    }
   ],
   "source": [
    "df_from_csv.loc[0]"
   ]
  },
  {
   "cell_type": "code",
   "execution_count": 13,
   "metadata": {},
   "outputs": [
    {
     "data": {
      "text/plain": [
       "col1    1\n",
       "col2    3\n",
       "col3    5\n",
       "Name: 0, dtype: int64"
      ]
     },
     "execution_count": 13,
     "metadata": {},
     "output_type": "execute_result"
    }
   ],
   "source": [
    "df.loc[0]"
   ]
  },
  {
   "cell_type": "code",
   "execution_count": 14,
   "metadata": {},
   "outputs": [
    {
     "data": {
      "text/plain": [
       "col1    1\n",
       "col2    3\n",
       "col3    5\n",
       "col4    7\n",
       "Name: 0, dtype: int32"
      ]
     },
     "execution_count": 14,
     "metadata": {},
     "output_type": "execute_result"
    }
   ],
   "source": [
    "df_from_np.loc[0]"
   ]
  },
  {
   "cell_type": "code",
   "execution_count": 16,
   "metadata": {},
   "outputs": [
    {
     "data": {
      "text/html": [
       "<div>\n",
       "<style scoped>\n",
       "    .dataframe tbody tr th:only-of-type {\n",
       "        vertical-align: middle;\n",
       "    }\n",
       "\n",
       "    .dataframe tbody tr th {\n",
       "        vertical-align: top;\n",
       "    }\n",
       "\n",
       "    .dataframe thead th {\n",
       "        text-align: right;\n",
       "    }\n",
       "</style>\n",
       "<table border=\"1\" class=\"dataframe\">\n",
       "  <thead>\n",
       "    <tr style=\"text-align: right;\">\n",
       "      <th></th>\n",
       "      <th>sno</th>\n",
       "      <th>food</th>\n",
       "      <th>size</th>\n",
       "      <th>price</th>\n",
       "    </tr>\n",
       "  </thead>\n",
       "  <tbody>\n",
       "    <tr>\n",
       "      <th>1</th>\n",
       "      <td>2</td>\n",
       "      <td>1 Top Pizza</td>\n",
       "      <td>NaN</td>\n",
       "      <td>6.75</td>\n",
       "    </tr>\n",
       "    <tr>\n",
       "      <th>2</th>\n",
       "      <td>3</td>\n",
       "      <td>Simple Pie Pizza</td>\n",
       "      <td>NaN</td>\n",
       "      <td>5.55</td>\n",
       "    </tr>\n",
       "  </tbody>\n",
       "</table>\n",
       "</div>"
      ],
      "text/plain": [
       "   sno              food size  price\n",
       "1    2       1 Top Pizza  NaN   6.75\n",
       "2    3  Simple Pie Pizza  NaN   5.55"
      ]
     },
     "execution_count": 16,
     "metadata": {},
     "output_type": "execute_result"
    }
   ],
   "source": [
    "df_from_csv.loc[[1,2]]"
   ]
  },
  {
   "cell_type": "code",
   "execution_count": 17,
   "metadata": {},
   "outputs": [
    {
     "data": {
      "text/plain": [
       "sno                         1\n",
       "food     Build Your Own Pizza\n",
       "price                    8.45\n",
       "Name: 0, dtype: object"
      ]
     },
     "execution_count": 17,
     "metadata": {},
     "output_type": "execute_result"
    }
   ],
   "source": [
    "df_from_csv.loc[0, ['sno', 'food', 'price']]"
   ]
  },
  {
   "cell_type": "code",
   "execution_count": 19,
   "metadata": {},
   "outputs": [
    {
     "data": {
      "text/plain": [
       "0                         Build Your Own Pizza\n",
       "1                                  1 Top Pizza\n",
       "2                             Simple Pie Pizza\n",
       "3                             Meat Eater Pizza\n",
       "4                            BBQ Chicken Pizza\n",
       "5                           Green Stripe Pizza\n",
       "6                              Art Lover Pizza\n",
       "7                               Red Vine Pizza\n",
       "8                                Veg Out Pizza\n",
       "9                                Link In Pizza\n",
       "10                             White Top Pizza\n",
       "11                         Caesar (Side Salad)\n",
       "12        Tomato, Basil & Ovalini (Side Salad)\n",
       "13    Roasted Veggie & Gorgonzola (Side Salad)\n",
       "14             Beet & Goat Cheese (Side Salad)\n",
       "15                    Antipasto (Entree Salad)\n",
       "16               Chicken Caesar (Entree Salad)\n",
       "17                                  S'more Pie\n",
       "18                              Fountain Drink\n",
       "19                                       Water\n",
       "20                                        Milk\n",
       "Name: food, dtype: object"
      ]
     },
     "execution_count": 19,
     "metadata": {},
     "output_type": "execute_result"
    }
   ],
   "source": [
    "df_from_csv.loc[:, 'food']"
   ]
  },
  {
   "cell_type": "code",
   "execution_count": 20,
   "metadata": {},
   "outputs": [
    {
     "data": {
      "text/plain": [
       "0                         Build Your Own Pizza\n",
       "1                                  1 Top Pizza\n",
       "2                             Simple Pie Pizza\n",
       "3                             Meat Eater Pizza\n",
       "4                            BBQ Chicken Pizza\n",
       "5                           Green Stripe Pizza\n",
       "6                              Art Lover Pizza\n",
       "7                               Red Vine Pizza\n",
       "8                                Veg Out Pizza\n",
       "9                                Link In Pizza\n",
       "10                             White Top Pizza\n",
       "11                         Caesar (Side Salad)\n",
       "12        Tomato, Basil & Ovalini (Side Salad)\n",
       "13    Roasted Veggie & Gorgonzola (Side Salad)\n",
       "14             Beet & Goat Cheese (Side Salad)\n",
       "15                    Antipasto (Entree Salad)\n",
       "16               Chicken Caesar (Entree Salad)\n",
       "17                                  S'more Pie\n",
       "18                              Fountain Drink\n",
       "19                                       Water\n",
       "20                                        Milk\n",
       "Name: food, dtype: object"
      ]
     },
     "execution_count": 20,
     "metadata": {},
     "output_type": "execute_result"
    }
   ],
   "source": [
    "df_from_csv['food']"
   ]
  },
  {
   "cell_type": "code",
   "execution_count": 23,
   "metadata": {},
   "outputs": [
    {
     "name": "stdout",
     "output_type": "stream",
     "text": [
      "price = 8.45, type=<class 'float'>\n",
      "price = 6.75, type=<class 'float'>\n",
      "price = 5.55, type=<class 'float'>\n",
      "price = 8.45, type=<class 'float'>\n",
      "price = 8.45, type=<class 'float'>\n",
      "price = 8.45, type=<class 'float'>\n",
      "price = 8.45, type=<class 'float'>\n",
      "price = 8.45, type=<class 'float'>\n",
      "price = 8.45, type=<class 'float'>\n",
      "price = 8.45, type=<class 'float'>\n",
      "price = 8.45, type=<class 'float'>\n",
      "price = 3.95, type=<class 'float'>\n",
      "price = 3.95, type=<class 'float'>\n",
      "price = 3.95, type=<class 'float'>\n",
      "price = 3.95, type=<class 'float'>\n",
      "price = 7.25, type=<class 'float'>\n",
      "price = 7.25, type=<class 'float'>\n",
      "price = 2.0, type=<class 'float'>\n",
      "price = 2.1, type=<class 'float'>\n",
      "price = 1.95, type=<class 'float'>\n",
      "price = 1.95, type=<class 'float'>\n"
     ]
    }
   ],
   "source": [
    "for item in df_from_csv['price']:\n",
    "    print(f'price = {item}, type={type(item)}')"
   ]
  }
 ],
 "metadata": {
  "interpreter": {
   "hash": "0323123eee0aa214712d62f1ce5cae745cb7aa6e91cd5750003a553b6dd184b0"
  },
  "kernelspec": {
   "display_name": "Python 3 (ipykernel)",
   "language": "python",
   "name": "python3"
  },
  "language_info": {
   "codemirror_mode": {
    "name": "ipython",
    "version": 3
   },
   "file_extension": ".py",
   "mimetype": "text/x-python",
   "name": "python",
   "nbconvert_exporter": "python",
   "pygments_lexer": "ipython3",
   "version": "3.9.7"
  }
 },
 "nbformat": 4,
 "nbformat_minor": 2
}
