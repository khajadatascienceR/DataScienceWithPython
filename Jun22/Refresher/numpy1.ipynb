{
 "cells": [
  {
   "cell_type": "markdown",
   "metadata": {},
   "source": [
    "Numpy\n",
    "------"
   ]
  },
  {
   "cell_type": "code",
   "execution_count": 1,
   "metadata": {},
   "outputs": [
    {
     "name": "stdout",
     "output_type": "stream",
     "text": [
      "[1, 'a', True]\n",
      "<class 'list'>\n"
     ]
    }
   ],
   "source": [
    "my_list = [1, 'a', True]\n",
    "print(my_list)\n",
    "print(type(my_list))"
   ]
  },
  {
   "cell_type": "code",
   "execution_count": 1,
   "metadata": {},
   "outputs": [],
   "source": [
    "import numpy"
   ]
  },
  {
   "cell_type": "code",
   "execution_count": 3,
   "metadata": {},
   "outputs": [
    {
     "name": "stdout",
     "output_type": "stream",
     "text": [
      "[1 2 3]\n",
      "<class 'numpy.ndarray'>\n"
     ]
    }
   ],
   "source": [
    "array_1 = numpy.array([1,2,3])\n",
    "print(array_1)\n",
    "print(type(array_1))"
   ]
  },
  {
   "cell_type": "code",
   "execution_count": 4,
   "metadata": {},
   "outputs": [
    {
     "name": "stdout",
     "output_type": "stream",
     "text": [
      "[1 2 3]\n",
      "<class 'numpy.ndarray'>\n"
     ]
    }
   ],
   "source": [
    "array_2 = numpy.array((1,2,3))\n",
    "print(array_2)\n",
    "print(type(array_2))"
   ]
  },
  {
   "cell_type": "code",
   "execution_count": 5,
   "metadata": {},
   "outputs": [
    {
     "name": "stdout",
     "output_type": "stream",
     "text": [
      "[1 2 3 4 5 6]\n",
      "<class 'numpy.ndarray'>\n"
     ]
    }
   ],
   "source": [
    "import numpy as np\n",
    "\n",
    "array = np.array([1,2,3,4,5,6])\n",
    "print(array)\n",
    "print(type(array))"
   ]
  },
  {
   "cell_type": "code",
   "execution_count": 15,
   "metadata": {},
   "outputs": [],
   "source": [
    "def print_array_n_dimension(array):\n",
    "    print(\"values\", array)\n",
    "    print(\"type is\", type(array))\n",
    "    print(\"Dimension is \", array.ndim)"
   ]
  },
  {
   "cell_type": "code",
   "execution_count": 16,
   "metadata": {},
   "outputs": [
    {
     "name": "stdout",
     "output_type": "stream",
     "text": [
      "values 12\n",
      "type is <class 'numpy.ndarray'>\n",
      "Dimension is  0\n",
      "values [1 2 3]\n",
      "type is <class 'numpy.ndarray'>\n",
      "Dimension is  1\n",
      "values [[1 2 3]\n",
      " [4 5 6]]\n",
      "type is <class 'numpy.ndarray'>\n",
      "Dimension is  2\n",
      "values [[[ 1  2  3]\n",
      "  [ 4  5  6]]\n",
      "\n",
      " [[-1 -2 -3]\n",
      "  [-4 -5 -6]]]\n",
      "type is <class 'numpy.ndarray'>\n",
      "Dimension is  3\n"
     ]
    }
   ],
   "source": [
    "a = np.array(12)\n",
    "print_array_n_dimension(a)\n",
    "b = np.array([1,2,3])\n",
    "print_array_n_dimension(b)\n",
    "c = np.array([[1,2,3], [4,5,6]])\n",
    "print_array_n_dimension(c)\n",
    "d = np.array([[[1,2,3], [4,5,6]], [[-1,-2,-3], [-4,-5,-6]]])\n",
    "print_array_n_dimension(d)\n"
   ]
  },
  {
   "cell_type": "code",
   "execution_count": 35,
   "metadata": {},
   "outputs": [
    {
     "name": "stdout",
     "output_type": "stream",
     "text": [
      "12\n",
      "b[0] = 1\n",
      "c[0] = [1 2 3]\n",
      "c[0,1] = 2\n",
      "c[1] = [4 5 6]\n",
      "c[1,2] = 6\n",
      "d[0] = [[1 2 3]\n",
      " [4 5 6]]\n",
      "d[0,1] = [4 5 6]\n",
      "d[0,1,2] = 6\n"
     ]
    }
   ],
   "source": [
    "# zero dimension\n",
    "print(\"a=\", a)\n",
    "# one dimension\n",
    "print(\"b[0] =\", b[0])\n",
    "# two dimension\n",
    "print(\"c[0] =\", c[0])\n",
    "print(\"c[0,1] =\", c[0,1])\n",
    "print(\"c[1] =\",c[1])\n",
    "print(\"c[1,2] =\", c[1,2])\n",
    "# three dimension\n",
    "print(\"d[0] =\", d[0])\n",
    "print(\"d[0,1] =\", d[0,1])\n",
    "print(\"d[0,1,2] =\", d[0,1,2])\n"
   ]
  },
  {
   "cell_type": "code",
   "execution_count": 38,
   "metadata": {},
   "outputs": [
    {
     "name": "stdout",
     "output_type": "stream",
     "text": [
      "my_list[0] = 1\n",
      "my_list[3] = 4\n",
      "my_list[-1] =  4\n"
     ]
    }
   ],
   "source": [
    "my_list = [1,2,3,4]\n",
    "print(\"my_list[0] =\", my_list[0])\n",
    "print(\"my_list[3] =\", my_list[3])\n",
    "print(\"my_list[-1] = \", my_list[-1])\n",
    "\n"
   ]
  },
  {
   "cell_type": "code",
   "execution_count": 40,
   "metadata": {},
   "outputs": [
    {
     "name": "stdout",
     "output_type": "stream",
     "text": [
      "[[1 2 3]\n",
      " [4 5 6]]\n",
      "c[-1,0] =  4\n"
     ]
    }
   ],
   "source": [
    "# negative indexing\n",
    "print(c)\n",
    "print(\"c[-1,0] = \", c[-1,0])"
   ]
  },
  {
   "cell_type": "code",
   "execution_count": 45,
   "metadata": {},
   "outputs": [
    {
     "name": "stdout",
     "output_type": "stream",
     "text": [
      "[1, 2, 3]\n",
      "[1, 3, 5]\n",
      "[5, 6, 7, 8, 9, 10]\n"
     ]
    }
   ],
   "source": [
    "my_list = [1,2,3,4,5,6,7,8,9,10]\n",
    "print(my_list[0:3])\n",
    "print(my_list[0:6:2])\n",
    "print(my_list[4:])\n"
   ]
  },
  {
   "cell_type": "code",
   "execution_count": 46,
   "metadata": {},
   "outputs": [
    {
     "name": "stdout",
     "output_type": "stream",
     "text": [
      "[1 2 3]\n",
      "[1 3 5]\n",
      "[ 5  6  7  8  9 10]\n"
     ]
    }
   ],
   "source": [
    "arr = np.array([1,2,3,4,5,6,7,8,9,10])\n",
    "print(arr[0:3])\n",
    "print(arr[0:6:2])\n",
    "print(arr[4:])\n"
   ]
  },
  {
   "cell_type": "code",
   "execution_count": 51,
   "metadata": {},
   "outputs": [
    {
     "name": "stdout",
     "output_type": "stream",
     "text": [
      "[6 7]\n",
      "[[2 3 4]\n",
      " [7 8 9]]\n"
     ]
    }
   ],
   "source": [
    "arr = np.array([[1,2,3,4,5],[6,7,8,9,10]])\n",
    "print(arr[-1, 0:2])\n",
    "print(arr[0:2, 1:4])"
   ]
  },
  {
   "cell_type": "code",
   "execution_count": 54,
   "metadata": {},
   "outputs": [
    {
     "name": "stdout",
     "output_type": "stream",
     "text": [
      "[[ 1  2  3  4  5]\n",
      " [ 6  7  8  9 10]]\n",
      "int32\n",
      "['dell' 'hp' 'lenovo']\n",
      "<U6\n"
     ]
    }
   ],
   "source": [
    "print(arr)\n",
    "print(arr.dtype)\n",
    "arr = np.array(['dell', 'hp', 'lenovo'])\n",
    "print(arr)\n",
    "print(arr.dtype)\n"
   ]
  },
  {
   "cell_type": "code",
   "execution_count": 55,
   "metadata": {},
   "outputs": [
    {
     "name": "stdout",
     "output_type": "stream",
     "text": [
      "[b'0' b'1']\n",
      "|S1\n"
     ]
    }
   ],
   "source": [
    "arr = np.array([0,1], dtype='S')\n",
    "print(arr)\n",
    "print(arr.dtype)"
   ]
  },
  {
   "cell_type": "code",
   "execution_count": 63,
   "metadata": {},
   "outputs": [
    {
     "name": "stdout",
     "output_type": "stream",
     "text": [
      "float64\n",
      "[2 3 4]\n",
      "int32\n",
      "['2.5' '3.5' '4.0']\n",
      "<U32\n"
     ]
    }
   ],
   "source": [
    "arr = np.array([2.5, 3.5, 4.0])\n",
    "print(arr.dtype)\n",
    "new_arr = arr.astype(int)\n",
    "print(new_arr)\n",
    "print(new_arr.dtype)\n",
    "jyothi_arr = arr.astype(str)\n",
    "print(jyothi_arr)\n",
    "print(jyothi_arr.dtype)"
   ]
  },
  {
   "cell_type": "code",
   "execution_count": 79,
   "metadata": {},
   "outputs": [
    {
     "name": "stdout",
     "output_type": "stream",
     "text": [
      "[0 2 3 4 5 6 7]\n",
      "[1 2 3 4 5 6 7]\n",
      "[0 2 3 4 5 6 7]\n",
      "[1 2 3 4 5 6 8]\n",
      "base is None\n"
     ]
    }
   ],
   "source": [
    "arr = np.array([1,2,3,4,5,6,7])\n",
    "copy_arr = arr.copy()\n",
    "arr[0] = 0\n",
    "print(arr)\n",
    "print(copy_arr)\n",
    "copy_arr[-1] = 8\n",
    "print(arr)\n",
    "print(copy_arr)\n",
    "print(\"base is\", copy_arr.base)"
   ]
  },
  {
   "cell_type": "code",
   "execution_count": 78,
   "metadata": {},
   "outputs": [
    {
     "name": "stdout",
     "output_type": "stream",
     "text": [
      "[1 2 3 4 5 6 7]\n",
      "[1 2 3 4 5 6 7]\n",
      "[0 2 3 4 5 6 7]\n",
      "[0 2 3 4 5 6 7]\n",
      "[0 2 3 4 5 6 8]\n",
      "[0 2 3 4 5 6 8]\n",
      "base is  [0 2 3 4 5 6 8]\n"
     ]
    }
   ],
   "source": [
    "arr = np.array([1,2,3,4,5,6,7])\n",
    "view_arr = arr.view()\n",
    "print(arr)\n",
    "print(view_arr)\n",
    "arr[0] = 0\n",
    "print(arr)\n",
    "print(view_arr)\n",
    "view_arr[-1] = 8\n",
    "print(arr)\n",
    "print(view_arr)\n",
    "print(\"base is \", view_arr.base)\n"
   ]
  },
  {
   "cell_type": "code",
   "execution_count": 88,
   "metadata": {},
   "outputs": [
    {
     "name": "stdout",
     "output_type": "stream",
     "text": [
      "shape of [1 2 3 4 5 6 7] is (7,)\n",
      "shape of [[1 2 3 4]\n",
      " [5 6 7 8]] is (2, 4)\n",
      "shape of [[[1 2 3]]] is (1, 1, 3)\n",
      "shape of [[[[[[[[[[1]]]]]]]]]] is (1, 1, 1, 1, 1, 1, 1, 1, 1, 1)\n"
     ]
    }
   ],
   "source": [
    "arr = np.array([1,2,3,4,5,6,7])\n",
    "print(f\"shape of {arr} is {arr.shape}\")\n",
    "\n",
    "arr = np.array([[1,2,3,4],[5,6,7,8]])\n",
    "print(f\"shape of {arr} is {arr.shape}\")\n",
    "\n",
    "arr = np.array([1,2,3], ndmin=3)\n",
    "print(f\"shape of {arr} is {arr.shape}\")\n",
    "\n",
    "arr = np.array([1], ndmin=10)\n",
    "print(f\"shape of {arr} is {arr.shape}\")"
   ]
  },
  {
   "cell_type": "code",
   "execution_count": 90,
   "metadata": {},
   "outputs": [
    {
     "name": "stdout",
     "output_type": "stream",
     "text": [
      "[[0 1 2]\n",
      " [3 4 5]\n",
      " [6 7 8]]\n"
     ]
    }
   ],
   "source": [
    "# Reshape from 1-D to 2-D\n",
    "\n",
    "arr = np.array([0,1,2,3,4,5,6,7,8])\n",
    "new_arr = arr.reshape(3,3)\n",
    "print(new_arr)"
   ]
  },
  {
   "cell_type": "code",
   "execution_count": 92,
   "metadata": {},
   "outputs": [
    {
     "name": "stdout",
     "output_type": "stream",
     "text": [
      "[[[ 0  1]\n",
      "  [ 2  3]\n",
      "  [ 4  5]]\n",
      "\n",
      " [[ 6  7]\n",
      "  [ 8  9]\n",
      "  [10 11]]]\n",
      "[ 0  1  2  3  4  5  6  7  8  9 10 11]\n"
     ]
    }
   ],
   "source": [
    "# Reshape from 1-D to 3-D\n",
    "arr = np.array([0,1,2,3,4,5,6,7,8,9,10,11])\n",
    "new_arr = arr.reshape(2,3,2)\n",
    "print(new_arr)\n",
    "print(new_arr.base)"
   ]
  }
 ],
 "metadata": {
  "kernelspec": {
   "display_name": "Python 3 (ipykernel)",
   "language": "python",
   "name": "python3"
  },
  "language_info": {
   "codemirror_mode": {
    "name": "ipython",
    "version": 3
   },
   "file_extension": ".py",
   "mimetype": "text/x-python",
   "name": "python",
   "nbconvert_exporter": "python",
   "pygments_lexer": "ipython3",
   "version": "3.9.7"
  },
  "vscode": {
   "interpreter": {
    "hash": "81794d4967e6c3204c66dcd87b604927b115b27c00565d3d43f05ba2f3a2cb0d"
   }
  }
 },
 "nbformat": 4,
 "nbformat_minor": 2
}
