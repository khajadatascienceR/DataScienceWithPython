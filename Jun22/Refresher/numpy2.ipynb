{
 "cells": [
  {
   "cell_type": "code",
   "execution_count": 4,
   "id": "a2a623aa",
   "metadata": {},
   "outputs": [
    {
     "name": "stdout",
     "output_type": "stream",
     "text": [
      "[[[ 0  1  2]\n",
      "  [ 3  4  5]]\n",
      "\n",
      " [[ 6  7  8]\n",
      "  [ 9 10 11]]]\n"
     ]
    }
   ],
   "source": [
    "# Unknown Dimesion\n",
    "import numpy as np\n",
    "arr = np.array([0,1,2,3,4,5,6,7,8,9,10,11])\n",
    "newarr = arr.reshape(2,2,-1)\n",
    "print(newarr)"
   ]
  },
  {
   "cell_type": "code",
   "execution_count": 5,
   "id": "29a153cb",
   "metadata": {},
   "outputs": [
    {
     "name": "stdout",
     "output_type": "stream",
     "text": [
      "[[[0 1]\n",
      "  [2 3]]\n",
      "\n",
      " [[4 5]\n",
      "  [6 7]]]\n"
     ]
    }
   ],
   "source": [
    "arr = np.array([0,1,2,3,4,5,6,7])\n",
    "newarr = arr.reshape(2,2,-1)\n",
    "print(newarr)"
   ]
  },
  {
   "cell_type": "code",
   "execution_count": 6,
   "id": "6134871c",
   "metadata": {},
   "outputs": [
    {
     "ename": "ValueError",
     "evalue": "can only specify one unknown dimension",
     "output_type": "error",
     "traceback": [
      "\u001b[1;31m---------------------------------------------------------------------------\u001b[0m",
      "\u001b[1;31mValueError\u001b[0m                                Traceback (most recent call last)",
      "Input \u001b[1;32mIn [6]\u001b[0m, in \u001b[0;36m<cell line: 2>\u001b[1;34m()\u001b[0m\n\u001b[0;32m      1\u001b[0m arr \u001b[38;5;241m=\u001b[39m np\u001b[38;5;241m.\u001b[39marray([\u001b[38;5;241m0\u001b[39m,\u001b[38;5;241m1\u001b[39m,\u001b[38;5;241m2\u001b[39m,\u001b[38;5;241m3\u001b[39m,\u001b[38;5;241m4\u001b[39m,\u001b[38;5;241m5\u001b[39m,\u001b[38;5;241m6\u001b[39m,\u001b[38;5;241m7\u001b[39m])\n\u001b[1;32m----> 2\u001b[0m newarr \u001b[38;5;241m=\u001b[39m \u001b[43marr\u001b[49m\u001b[38;5;241;43m.\u001b[39;49m\u001b[43mreshape\u001b[49m\u001b[43m(\u001b[49m\u001b[38;5;241;43m2\u001b[39;49m\u001b[43m,\u001b[49m\u001b[38;5;241;43m-\u001b[39;49m\u001b[38;5;241;43m1\u001b[39;49m\u001b[43m,\u001b[49m\u001b[38;5;241;43m-\u001b[39;49m\u001b[38;5;241;43m1\u001b[39;49m\u001b[43m)\u001b[49m\n",
      "\u001b[1;31mValueError\u001b[0m: can only specify one unknown dimension"
     ]
    }
   ],
   "source": [
    "arr = np.array([0,1,2,3,4,5,6,7])\n",
    "newarr = arr.reshape(2,-1,-1)\n"
   ]
  },
  {
   "cell_type": "code",
   "execution_count": 9,
   "id": "e991058b",
   "metadata": {},
   "outputs": [
    {
     "name": "stdout",
     "output_type": "stream",
     "text": [
      "[[[0 1]\n",
      "  [2 3]]\n",
      "\n",
      " [[4 5]\n",
      "  [6 7]]]\n"
     ]
    }
   ],
   "source": [
    "arr = np.array([0,1,2,3,4,5,6,7])\n",
    "newarr = arr.reshape(2,-1,2)\n",
    "print(newarr)"
   ]
  },
  {
   "cell_type": "code",
   "execution_count": 10,
   "id": "d625f3bb",
   "metadata": {},
   "outputs": [
    {
     "name": "stdout",
     "output_type": "stream",
     "text": [
      "[[[0 1]\n",
      "  [2 3]]\n",
      "\n",
      " [[4 5]\n",
      "  [6 7]]]\n"
     ]
    }
   ],
   "source": [
    "arr = np.array([0,1,2,3,4,5,6,7])\n",
    "newarr = arr.reshape(-1,2,2)\n",
    "print(newarr)"
   ]
  },
  {
   "cell_type": "code",
   "execution_count": 12,
   "id": "c6f416d4",
   "metadata": {},
   "outputs": [
    {
     "name": "stdout",
     "output_type": "stream",
     "text": [
      "[1 2 3 4 5 6]\n",
      "[0 1 2 3 4 5 6 7]\n"
     ]
    }
   ],
   "source": [
    "arr = np.array([[1,2,3],[4,5,6]])\n",
    "newarr = arr.reshape(-1)\n",
    "print(newarr)\n",
    "arr = np.array([0,1,2,3,4,5,6,7])\n",
    "newarr = arr.reshape(-1,2,2)\n",
    "flatten_array = newarr.reshape(-1)\n",
    "print(flatten_array)"
   ]
  },
  {
   "cell_type": "code",
   "execution_count": 14,
   "id": "dd14ebf8",
   "metadata": {},
   "outputs": [
    {
     "name": "stdout",
     "output_type": "stream",
     "text": [
      "0\n",
      "1\n",
      "2\n",
      "3\n",
      "4\n",
      "5\n",
      "6\n",
      "7\n"
     ]
    }
   ],
   "source": [
    "arr = np.array([0,1,2,3,4,5,6,7])\n",
    "\n",
    "for item in arr:\n",
    "    print(item)"
   ]
  },
  {
   "cell_type": "code",
   "execution_count": 17,
   "id": "796b097d",
   "metadata": {},
   "outputs": [
    {
     "name": "stdout",
     "output_type": "stream",
     "text": [
      "[0 1 2 3]\n",
      "[4 5 6 7]\n",
      "0\n",
      "1\n",
      "2\n",
      "3\n",
      "4\n",
      "5\n",
      "6\n",
      "7\n"
     ]
    }
   ],
   "source": [
    "arr = np.array([[0,1,2,3],[4,5,6,7]])\n",
    "for item in arr:\n",
    "    print(item)\n",
    "    \n",
    "for x_item in arr:\n",
    "    for y_item in x_item:\n",
    "        print(y_item)\n",
    "\n"
   ]
  },
  {
   "cell_type": "code",
   "execution_count": 19,
   "id": "4ba2f5d4",
   "metadata": {},
   "outputs": [
    {
     "name": "stdout",
     "output_type": "stream",
     "text": [
      "0\n",
      "1\n",
      "2\n",
      "3\n",
      "4\n",
      "5\n",
      "6\n",
      "7\n"
     ]
    }
   ],
   "source": [
    "arr = np.array([[[0,1],[2,3],[4,5],[6,7]]])\n",
    "\n",
    "for item in np.nditer(arr):\n",
    "    print(item)"
   ]
  },
  {
   "cell_type": "code",
   "execution_count": 29,
   "id": "0ef4f9c3",
   "metadata": {},
   "outputs": [
    {
     "name": "stdout",
     "output_type": "stream",
     "text": [
      "convert to string\n",
      "b'0'\n",
      "b'1'\n",
      "b'2'\n",
      "b'3'\n",
      "b'4'\n",
      "b'5'\n",
      "b'6'\n",
      "b'7'\n",
      "convert to float\n",
      "0.0\n",
      "1.0\n",
      "2.0\n",
      "3.0\n",
      "4.0\n",
      "5.0\n",
      "6.0\n",
      "7.0\n"
     ]
    }
   ],
   "source": [
    "arr = np.array([[[0,1],[2,3],[4,5],[6,7]]])\n",
    "print('convert to string')\n",
    "for item in np.nditer(arr, flags=['buffered'], op_dtypes=['S']):\n",
    "    print(item)\n",
    "print('convert to float')\n",
    "for item in np.nditer(arr, flags=['buffered'], op_dtypes=['f'],casting='unsafe'):\n",
    "    print(item)"
   ]
  },
  {
   "cell_type": "code",
   "execution_count": 33,
   "id": "c668577e",
   "metadata": {},
   "outputs": [
    {
     "name": "stdout",
     "output_type": "stream",
     "text": [
      "Step of 2 in second dimension\n",
      "0\n",
      "2\n",
      "4\n",
      "6\n",
      "8\n",
      "10\n",
      "12\n",
      "14\n",
      "Step of 2 in first dimension\n",
      "0\n",
      "1\n",
      "2\n",
      "3\n",
      "8\n",
      "9\n",
      "10\n",
      "11\n"
     ]
    }
   ],
   "source": [
    "arr = np.array([[0,1,2,3],[4,5,6,7], [8,9,10,11],[12,13,14,15]])\n",
    "print(\"Step of 2 in second dimension\")\n",
    "for item in np.nditer(arr[:, ::2]):\n",
    "    print(item)\n",
    "print(\"Step of 2 in first dimension\")\n",
    "for item in np.nditer(arr[::2, :]):\n",
    "    print(item)\n"
   ]
  },
  {
   "cell_type": "code",
   "execution_count": 39,
   "id": "4a80ec10",
   "metadata": {},
   "outputs": [
    {
     "name": "stdout",
     "output_type": "stream",
     "text": [
      "[1 2 3 4 5 6]\n",
      "[[1 2]\n",
      " [3 4]\n",
      " [5 6]\n",
      " [7 8]]\n",
      "[[1 2 5 6]\n",
      " [3 4 7 8]]\n"
     ]
    }
   ],
   "source": [
    "arr_1 = np.array([1,2,3])\n",
    "arr_2 = np.array([4,5,6])\n",
    "arr = np.concatenate((arr_1, arr_2))\n",
    "print(arr)\n",
    "\n",
    "arr_1 = np.array([[1,2],[3,4]])\n",
    "arr_2 = np.array([[5,6],[7,8]])\n",
    "arr = np.concatenate((arr_1, arr_2))\n",
    "print(arr)\n",
    "# concatenate with axis = 1\n",
    "arr = np.concatenate((arr_1, arr_2), axis=1)\n",
    "print(arr)"
   ]
  },
  {
   "cell_type": "code",
   "execution_count": 45,
   "id": "d48f6b6d",
   "metadata": {},
   "outputs": [
    {
     "name": "stdout",
     "output_type": "stream",
     "text": [
      "[[1 4]\n",
      " [2 5]\n",
      " [3 6]]\n",
      "axis = 1\n",
      "[[[1 2]\n",
      "  [5 6]]\n",
      "\n",
      " [[3 4]\n",
      "  [7 8]]]\n",
      "axis = 2\n",
      "[[[1 5]\n",
      "  [2 6]]\n",
      "\n",
      " [[3 7]\n",
      "  [4 8]]]\n"
     ]
    }
   ],
   "source": [
    "arr_1 = np.array([1,2,3])\n",
    "arr_2 = np.array([4,5,6])\n",
    "arr = np.stack((arr_1, arr_2), axis=1)\n",
    "print(arr)\n",
    "\n",
    "arr_1 = np.array([[1,2],[3,4]])\n",
    "arr_2 = np.array([[5,6],[7,8]])\n",
    "arr = np.stack((arr_1, arr_2), axis=1)\n",
    "print(\"axis = 1\")\n",
    "print(arr)\n",
    "print(\"axis = 2\")\n",
    "arr = np.stack((arr_1, arr_2), axis=2)\n",
    "print(arr)"
   ]
  },
  {
   "cell_type": "code",
   "execution_count": 51,
   "id": "5c79c784",
   "metadata": {},
   "outputs": [
    {
     "name": "stdout",
     "output_type": "stream",
     "text": [
      "Row Stacking\n",
      "[1 2 3 4 5 6]\n",
      "Column Stacking\n",
      "[[1 2 3]\n",
      " [4 5 6]]\n",
      "Height Stacking\n",
      "[[[1 4]\n",
      "  [2 5]\n",
      "  [3 6]]]\n"
     ]
    }
   ],
   "source": [
    "\n",
    "arr_1 = np.array([1,2,3])\n",
    "arr_2 = np.array([4,5,6])\n",
    "print(\"Row Stacking\")\n",
    "# Stacking along rows\n",
    "arr = np.hstack((arr_1,arr_2))\n",
    "print(arr)\n",
    "print(\"Column Stacking\")\n",
    "# Stacking along columns\n",
    "arr = np.vstack((arr_1,arr_2))\n",
    "print(arr)\n",
    "print(\"Height Stacking\")\n",
    "# Stacking along height/depth\n",
    "arr = np.dstack((arr_1,arr_2))\n",
    "print(arr)"
   ]
  },
  {
   "cell_type": "code",
   "execution_count": 54,
   "id": "cad8fd5e",
   "metadata": {},
   "outputs": [
    {
     "name": "stdout",
     "output_type": "stream",
     "text": [
      "(array([2], dtype=int64),)\n",
      "(array([0, 2, 4, 6], dtype=int64),)\n",
      "(array([5, 6, 7], dtype=int64),)\n"
     ]
    }
   ],
   "source": [
    "# Searching arrays\n",
    "arr = np.array([0,1,2,3,4,5,6,7])\n",
    "item = np.where(arr == 2)\n",
    "print(item)\n",
    "\n",
    "items = np.where(arr%2==0)\n",
    "print(items)\n",
    "\n",
    "items = np.where(arr >=5)\n",
    "print(items)\n"
   ]
  },
  {
   "cell_type": "code",
   "execution_count": 59,
   "id": "2539f5f4",
   "metadata": {},
   "outputs": [
    {
     "name": "stdout",
     "output_type": "stream",
     "text": [
      "5\n",
      "4\n",
      "4\n"
     ]
    }
   ],
   "source": [
    "arr = np.array([0,1,2,3,4,5,6,7])\n",
    "\n",
    "index = np.searchsorted(arr,5)\n",
    "print(index)\n",
    "\n",
    "arr = np.array([15,3,4,1,9,10,6,5])\n",
    "index = np.searchsorted(arr,5)\n",
    "print(index)\n",
    "index = np.searchsorted(arr,5, side='right')\n",
    "print(index)\n",
    "\n"
   ]
  }
 ],
 "metadata": {
  "kernelspec": {
   "display_name": "Python 3 (ipykernel)",
   "language": "python",
   "name": "python3"
  },
  "language_info": {
   "codemirror_mode": {
    "name": "ipython",
    "version": 3
   },
   "file_extension": ".py",
   "mimetype": "text/x-python",
   "name": "python",
   "nbconvert_exporter": "python",
   "pygments_lexer": "ipython3",
   "version": "3.9.7"
  }
 },
 "nbformat": 4,
 "nbformat_minor": 5
}
