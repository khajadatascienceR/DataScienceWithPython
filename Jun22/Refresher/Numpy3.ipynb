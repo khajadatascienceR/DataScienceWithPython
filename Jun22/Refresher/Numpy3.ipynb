{
 "cells": [
  {
   "cell_type": "code",
   "execution_count": 2,
   "id": "b4584530",
   "metadata": {},
   "outputs": [
    {
     "name": "stdout",
     "output_type": "stream",
     "text": [
      "1\n",
      "2\n"
     ]
    }
   ],
   "source": [
    "import numpy as np\n",
    "\n",
    "arr = np.array([3,4,5,6])\n",
    "\n",
    "index = np.searchsorted(arr, 4)\n",
    "print(index)\n",
    "\n",
    "index = np.searchsorted(arr, 4, side='right')\n",
    "print(index)"
   ]
  },
  {
   "cell_type": "code",
   "execution_count": 4,
   "id": "1bcbd093",
   "metadata": {},
   "outputs": [
    {
     "name": "stdout",
     "output_type": "stream",
     "text": [
      "0\n",
      "2\n"
     ]
    }
   ],
   "source": [
    "# not a right way\n",
    "arr = np.array([4,1,2,0])\n",
    "index = np.searchsorted(arr,1)\n",
    "print(index)\n",
    "index = np.searchsorted(arr,1, side='right')\n",
    "print(index)"
   ]
  },
  {
   "cell_type": "code",
   "execution_count": 6,
   "id": "e8788937",
   "metadata": {},
   "outputs": [
    {
     "name": "stdout",
     "output_type": "stream",
     "text": [
      "[0 0 4]\n",
      "[0 1 4]\n"
     ]
    }
   ],
   "source": [
    "arr = np.array([3,5,7,9])\n",
    "index = np.searchsorted(arr, [2,3,10])\n",
    "print(index)\n",
    "\n",
    "index = np.searchsorted(arr, [2,3,10], side='right')\n",
    "print(index)"
   ]
  },
  {
   "cell_type": "code",
   "execution_count": 8,
   "id": "da30f0e0",
   "metadata": {},
   "outputs": [
    {
     "name": "stdout",
     "output_type": "stream",
     "text": [
      "[0 1 2 4]\n",
      "[[2 3 5]\n",
      " [0 4 6]]\n"
     ]
    }
   ],
   "source": [
    "# sorting arrays\n",
    "arr = np.array([4,1,2,0])\n",
    "print(np.sort(arr))\n",
    "\n",
    "arr = np.array([[3,2,5], [6,0,4]])\n",
    "print(np.sort(arr))"
   ]
  },
  {
   "cell_type": "code",
   "execution_count": 9,
   "id": "53ec90d5",
   "metadata": {},
   "outputs": [
    {
     "name": "stdout",
     "output_type": "stream",
     "text": [
      "[True, False, True, False, True, False, True, False, True]\n",
      "[1 3 5 7 9]\n"
     ]
    }
   ],
   "source": [
    "# Find all the items in the array which are odd\n",
    "\n",
    "arr = np.array([1,2,3,4,5,6,7,8,9])\n",
    "\n",
    "#filter array\n",
    "\n",
    "filter_arr = []\n",
    "for element in arr:\n",
    "    if element %2 == 0:\n",
    "        filter_arr.append(False)\n",
    "    else:\n",
    "        filter_arr.append(True)\n",
    "\n",
    "new_arr = arr[filter_arr]\n",
    "print(filter_arr)\n",
    "print(new_arr)"
   ]
  },
  {
   "cell_type": "code",
   "execution_count": 10,
   "id": "b31f6ff3",
   "metadata": {},
   "outputs": [
    {
     "name": "stdout",
     "output_type": "stream",
     "text": [
      "[ True False  True False  True False  True False  True]\n",
      "[1 3 5 7 9]\n"
     ]
    }
   ],
   "source": [
    "# Creating Filter directly from array\n",
    "arr = np.array([1,2,3,4,5,6,7,8,9])\n",
    "filter_arr = arr%2==1\n",
    "\n",
    "new_arr = arr[filter_arr]\n",
    "print(filter_arr)\n",
    "print(new_arr)"
   ]
  },
  {
   "cell_type": "code",
   "execution_count": 18,
   "id": "b12ff4a1",
   "metadata": {},
   "outputs": [
    {
     "name": "stdout",
     "output_type": "stream",
     "text": [
      "[ 11  13  17  19  23  29  31  37  41  43  47  53  59  61  67  71  73  79\n",
      "  83  89  97 101 103 107 109 113 127 131 137 139 149 151 157 163 167 173\n",
      " 179 181 191 193 197 199 211 223 227 229 233 239 241 251 257 263 269 271\n",
      " 277 281 283 293 307 311 313 317 331 337 347 349 353 359 367 373 379 383\n",
      " 389 397 401 409 419 421 431 433 439 443 449 457 461 463 467 479 487 491\n",
      " 499 503 509 521 523 541 547 557 563 569 571 577 587 593 599 601 607 613\n",
      " 617 619 631 641 643 647 653 659 661 673 677 683 691 701 709 719 727 733\n",
      " 739 743 751 757 761 769 773 787 797 809 811 821 823 827 829 839 853 857\n",
      " 859 863 877 881 883 887 907 911 919 929 937 941 947 953 967 971 977 983\n",
      " 991 997]\n"
     ]
    }
   ],
   "source": [
    "# Create a Filter to filter out prime numbers between 10 to 100\n",
    "\n",
    "numbers = [*range(10,1001)]\n",
    "#print(numbers)\n",
    "arr = np.array(numbers)\n",
    "def is_prime(number):\n",
    "    for index in range(2,number//2+1):\n",
    "        if number % index == 0:\n",
    "            return False\n",
    "    return True\n",
    "filter_arr = []\n",
    "for element in arr:\n",
    "    if is_prime(element):\n",
    "        filter_arr.append(True)\n",
    "    else:\n",
    "        filter_arr.append(False)\n",
    "print(arr[filter_arr])"
   ]
  },
  {
   "cell_type": "code",
   "execution_count": 22,
   "id": "62a30bf6",
   "metadata": {},
   "outputs": [
    {
     "name": "stdout",
     "output_type": "stream",
     "text": [
      "[ 11  13  17  19  23  29  31  37  41  43  47  53  59  61  67  71  73  79\n",
      "  83  89  97 101 103 107 109 113 127 131 137 139 149 151 157 163 167 173\n",
      " 179 181 191 193 197 199 211 223 227 229 233 239 241 251 257 263 269 271\n",
      " 277 281 283 293 307 311 313 317 331 337 347 349 353 359 367 373 379 383\n",
      " 389 397 401 409 419 421 431 433 439 443 449 457 461 463 467 479 487 491\n",
      " 499 503 509 521 523 541 547 557 563 569 571 577 587 593 599 601 607 613\n",
      " 617 619 631 641 643 647 653 659 661 673 677 683 691 701 709 719 727 733\n",
      " 739 743 751 757 761 769 773 787 797 809 811 821 823 827 829 839 853 857\n",
      " 859 863 877 881 883 887 907 911 919 929 937 941 947 953 967 971 977 983\n",
      " 991 997]\n"
     ]
    }
   ],
   "source": [
    "# array from 10 to 1000\n",
    "arr = np.arange(10, 10**3)\n",
    "is_prime_v = np.vectorize(is_prime)\n",
    "print(arr[is_prime_v(arr)])"
   ]
  },
  {
   "cell_type": "code",
   "execution_count": 32,
   "id": "54c2ea56",
   "metadata": {},
   "outputs": [
    {
     "name": "stdout",
     "output_type": "stream",
     "text": [
      "476\n",
      "0.5150782699684876\n",
      "[396 907 529 246 810 321  55 809 106 511]\n",
      "[[401 385 455  71  56]\n",
      " [489 808  59 169  10]\n",
      " [300 760 404 478 889]]\n",
      "856\n",
      "[[238 380 964]\n",
      " [726 986 964]\n",
      " [964 856 918]]\n"
     ]
    }
   ],
   "source": [
    "from numpy import random\n",
    "\n",
    "# random number between 0 to 1000\n",
    "print(random.randint(1000))\n",
    "\n",
    "# random float => 0 to 1\n",
    "print(random.rand())\n",
    "\n",
    "# random array\n",
    "# 1-D\n",
    "print(random.randint(1000, size=(10)))\n",
    "# 2-D\n",
    "print(random.randint(1000, size=(3,5)))\n",
    "\n",
    "array = [856, 380, 238, 272, 986, 489, 726, 964, 918, 218]\n",
    "print(random.choice(array))\n",
    "print(random.choice(array, size=(3,3)))\n"
   ]
  },
  {
   "cell_type": "code",
   "execution_count": 35,
   "id": "e6a2e93a",
   "metadata": {},
   "outputs": [
    {
     "name": "stdout",
     "output_type": "stream",
     "text": [
      "[1 1 1 1 3 1 4 4 1 2 1 3 1 1 1 0 2 1 1 1 3 2 4 1 3 1 4 0 0 0 4 4 0 3 0 4 1\n",
      " 1 1 4 4 2 2 4 4 4 4 1 3 3]\n",
      "[5 5 6 1 4 5 2 1 1 3 5 2 6 6 4 3 2 2 3 4 6 2 4 1 5 2 2 1 6 4 1 3 5 2 3 4 4\n",
      " 1 4 5 3 3 5 4 6 3 3 3 5 6 6 1 3 4 5 6 2 5 6 4 4 1 3 6 2 4 2 2 2 4 1 1 6 3\n",
      " 1 3 3 1 2 4 1 1 3 5 2 6 5 2 4 2 5 4 4 2 2 6 1 2 3 4]\n"
     ]
    }
   ],
   "source": [
    "values = random.choice([0,1,2,3,4], p=[0.1,0.3,0.2,0.2,0.2], size=(50))\n",
    "print(values)\n",
    "\n",
    "dice_rolls = random.choice([1,2,3,4,5,6], p=[1/6,1/6,1/6,1/6,1/6,1/6], size=(100))\n",
    "print(dice_rolls)"
   ]
  },
  {
   "cell_type": "code",
   "execution_count": 36,
   "id": "2d23191e",
   "metadata": {},
   "outputs": [
    {
     "name": "stdout",
     "output_type": "stream",
     "text": [
      "[[1 1 4 2 2]\n",
      " [1 4 1 3 1]\n",
      " [1 1 2 1 2]\n",
      " [3 3 2 4 2]]\n"
     ]
    }
   ],
   "source": [
    "values = random.choice([0,1,2,3,4], p=[0.1,0.3,0.2,0.2,0.2], size=(4,5))\n",
    "print(values)"
   ]
  },
  {
   "cell_type": "code",
   "execution_count": 47,
   "id": "ffa3d763",
   "metadata": {},
   "outputs": [
    {
     "name": "stdout",
     "output_type": "stream",
     "text": [
      "['7' '2' '6' 'J' '4' '3' '8' '10' 'K' '5' 'Q' '9' 'A']\n",
      "['3' 'A' '6' '7' 'Q' '5' 'K' '9' '10' '8' '2' '4' 'J']\n",
      "['2' '3' '4' '5' '6' '7' '8' '9' '10' 'J' 'Q' 'K' 'A']\n"
     ]
    }
   ],
   "source": [
    "arr = np.array(['2','3','4', '5', '6', '7', '8', '9', '10', 'J', 'Q', 'K', 'A'])\n",
    "\n",
    "random.shuffle(arr)\n",
    "print(arr)\n",
    "# shuffle makes changes to the original array\n",
    "\n",
    "arr = np.array(['2','3','4', '5', '6', '7', '8', '9', '10', 'J', 'Q', 'K', 'A'])\n",
    "print(random.permutation(arr))\n",
    "print(arr)\n",
    "# permutation returns the rearranged array and orginal array will be unchanged"
   ]
  },
  {
   "cell_type": "code",
   "execution_count": 49,
   "id": "d704fef6",
   "metadata": {},
   "outputs": [
    {
     "name": "stdout",
     "output_type": "stream",
     "text": [
      "[3, 7, 11, 15]\n",
      "[ 3  7 11 15]\n"
     ]
    }
   ],
   "source": [
    "\n",
    "x = [1,3,5,7]\n",
    "y = [2,4,6,8]\n",
    "# Traditional python\n",
    "z = []\n",
    "for i, j in zip(x,y):\n",
    "    z.append(i+j)\n",
    "print(z)\n",
    "\n",
    "#ufunc\n",
    "z = np.add(x,y)\n",
    "print(z)"
   ]
  }
 ],
 "metadata": {
  "kernelspec": {
   "display_name": "Python 3 (ipykernel)",
   "language": "python",
   "name": "python3"
  },
  "language_info": {
   "codemirror_mode": {
    "name": "ipython",
    "version": 3
   },
   "file_extension": ".py",
   "mimetype": "text/x-python",
   "name": "python",
   "nbconvert_exporter": "python",
   "pygments_lexer": "ipython3",
   "version": "3.9.7"
  }
 },
 "nbformat": 4,
 "nbformat_minor": 5
}
